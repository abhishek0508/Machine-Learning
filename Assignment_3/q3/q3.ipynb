{
 "cells": [
  {
   "cell_type": "markdown",
   "metadata": {
    "colab_type": "text",
    "id": "z25rYE0CmucK"
   },
   "source": [
    "## Question 3 - MNIST Classsification using PyTorch"
   ]
  },
  {
   "cell_type": "code",
   "execution_count": 0,
   "metadata": {
    "colab": {},
    "colab_type": "code",
    "id": "FATiEyapi0Hj"
   },
   "outputs": [],
   "source": [
    "import torch\n",
    "import numpy as np"
   ]
  },
  {
   "cell_type": "markdown",
   "metadata": {
    "colab_type": "text",
    "id": "A3Rf-SmTkaRy"
   },
   "source": [
    "Load Data Sets"
   ]
  },
  {
   "cell_type": "code",
   "execution_count": 2,
   "metadata": {
    "colab": {
     "base_uri": "https://localhost:8080/",
     "height": 319,
     "referenced_widgets": [
      "a931eabab18944e798a3c476128cc558",
      "4f9f7241fb0944198aa4b5f9a4d25edf",
      "e99ff81a81014a87a5b124692b1962da",
      "d3c034cfc30849a0b882528658c3e5d8",
      "9216827099b84ec0a6a1e3213d1240e7",
      "07a0ab50d9394cc5be2e8331bcc3e74c",
      "8c3603984e9a41339766c2d6ca8a7f33",
      "31a685af2a8145569b8570d42ccf03f0",
      "6b325c84c7044b6190d6d8f7afac8f27",
      "5408c63c9d0c4836944e5f6ca552426b",
      "138d8f0765694040a5fe9e510e4cfbe2",
      "c011a8df8aac414b8b669cd1048ea6f0",
      "2acc57d5909347b890137bbcb278422f",
      "7ab0a5f4f60e4668bd9639159d7fccc5",
      "d08fbc1bc5f74bc799cd6f01474ce7ad",
      "91c7c5e0d30f440b923b30af3f75c2c6",
      "48e7d1f7729e4f58be8c93bdf35fffb7",
      "bf3298389f2e40a4be882b6548e14c31",
      "7a0167105d644ee09dc9ff96f8a8d74f",
      "3eeca7e9727f4ddca9c5804d4da1ace1",
      "719a0928845a46e3a859bbf77266e43f",
      "ab5792c5024f475ab14e76f810d12bb6",
      "f2721dd580ce4644aed9ecd968d3f79b",
      "d5aee75924e848c1a9ef8b2efdc34208",
      "62e8a98cb3084800aa3f754651934c07",
      "5812488ad0fa4467a0e6c8f62cec1702",
      "67100a0790144fc89e510799c56f1c90",
      "834aba56e96f41f29e5b77f736c4a98a",
      "5c13e8b45f2f480ea4d9e83ffa89fc1a",
      "f804cefa327f4e8eb43861c0d1919587",
      "31654deb8af64ce586a2502be9b61d5a",
      "dd91190b4cdf47609e509c1102ebf95e"
     ]
    },
    "colab_type": "code",
    "id": "CgYxienZkLMG",
    "outputId": "49927a38-8e55-4247-97f1-647e88279f0d"
   },
   "outputs": [
    {
     "name": "stdout",
     "output_type": "stream",
     "text": [
      "Downloading http://yann.lecun.com/exdb/mnist/train-images-idx3-ubyte.gz to data/MNIST/raw/train-images-idx3-ubyte.gz\n"
     ]
    },
    {
     "data": {
      "application/vnd.jupyter.widget-view+json": {
       "model_id": "a931eabab18944e798a3c476128cc558",
       "version_major": 2,
       "version_minor": 0
      },
      "text/plain": [
       "HBox(children=(IntProgress(value=1, bar_style='info', max=1), HTML(value='')))"
      ]
     },
     "metadata": {
      "tags": []
     },
     "output_type": "display_data"
    },
    {
     "name": "stdout",
     "output_type": "stream",
     "text": [
      "Extracting data/MNIST/raw/train-images-idx3-ubyte.gz to data/MNIST/raw\n",
      "Downloading http://yann.lecun.com/exdb/mnist/train-labels-idx1-ubyte.gz to data/MNIST/raw/train-labels-idx1-ubyte.gz\n"
     ]
    },
    {
     "data": {
      "application/vnd.jupyter.widget-view+json": {
       "model_id": "6b325c84c7044b6190d6d8f7afac8f27",
       "version_major": 2,
       "version_minor": 0
      },
      "text/plain": [
       "HBox(children=(IntProgress(value=1, bar_style='info', max=1), HTML(value='')))"
      ]
     },
     "metadata": {
      "tags": []
     },
     "output_type": "display_data"
    },
    {
     "name": "stdout",
     "output_type": "stream",
     "text": [
      "Extracting data/MNIST/raw/train-labels-idx1-ubyte.gz to data/MNIST/raw\n",
      "Downloading http://yann.lecun.com/exdb/mnist/t10k-images-idx3-ubyte.gz to data/MNIST/raw/t10k-images-idx3-ubyte.gz\n"
     ]
    },
    {
     "data": {
      "application/vnd.jupyter.widget-view+json": {
       "model_id": "48e7d1f7729e4f58be8c93bdf35fffb7",
       "version_major": 2,
       "version_minor": 0
      },
      "text/plain": [
       "HBox(children=(IntProgress(value=1, bar_style='info', max=1), HTML(value='')))"
      ]
     },
     "metadata": {
      "tags": []
     },
     "output_type": "display_data"
    },
    {
     "name": "stdout",
     "output_type": "stream",
     "text": [
      "Extracting data/MNIST/raw/t10k-images-idx3-ubyte.gz to data/MNIST/raw\n",
      "Downloading http://yann.lecun.com/exdb/mnist/t10k-labels-idx1-ubyte.gz to data/MNIST/raw/t10k-labels-idx1-ubyte.gz\n"
     ]
    },
    {
     "data": {
      "application/vnd.jupyter.widget-view+json": {
       "model_id": "62e8a98cb3084800aa3f754651934c07",
       "version_major": 2,
       "version_minor": 0
      },
      "text/plain": [
       "HBox(children=(IntProgress(value=1, bar_style='info', max=1), HTML(value='')))"
      ]
     },
     "metadata": {
      "tags": []
     },
     "output_type": "display_data"
    },
    {
     "name": "stdout",
     "output_type": "stream",
     "text": [
      "Extracting data/MNIST/raw/t10k-labels-idx1-ubyte.gz to data/MNIST/raw\n",
      "Processing...\n",
      "Done!\n"
     ]
    }
   ],
   "source": [
    "from torchvision import datasets\n",
    "import torchvision.transforms as transforms\n",
    "\n",
    "# number of subprocesses to use for data loading\n",
    "num_workers = 0\n",
    "# how many samples per batch to load\n",
    "batch_size = 20\n",
    "\n",
    "# convert data to torch.FloatTensor\n",
    "transform = transforms.ToTensor()\n",
    "\n",
    "# choose the training and test datasets\n",
    "train_data = datasets.MNIST(root='data', train=True,\n",
    "                                   download=True, transform=transform)\n",
    "test_data = datasets.MNIST(root='data', train=False,\n",
    "                                  download=True, transform=transform)\n",
    "\n",
    "# prepare data loaders\n",
    "train_loader = torch.utils.data.DataLoader(train_data, batch_size=batch_size,\n",
    "    num_workers=num_workers)\n",
    "test_loader = torch.utils.data.DataLoader(test_data, batch_size=batch_size, \n",
    "    num_workers=num_workers)"
   ]
  },
  {
   "cell_type": "markdown",
   "metadata": {
    "colab_type": "text",
    "id": "V_zBiAMQkp3t"
   },
   "source": [
    "Visualize a batch of Training Set"
   ]
  },
  {
   "cell_type": "code",
   "execution_count": 3,
   "metadata": {
    "colab": {
     "base_uri": "https://localhost:8080/",
     "height": 299
    },
    "colab_type": "code",
    "id": "9v2FWYZ4kcgF",
    "outputId": "c7d20519-4c57-4905-c6ca-3d6067be379c"
   },
   "outputs": [
    {
     "name": "stdout",
     "output_type": "stream",
     "text": [
      "\n",
      "\n",
      "\n",
      "\n"
     ]
    },
    {
     "data": {
      "image/png": "[encoded data removed]",
      "text/plain": [
       "<Figure size 1800x288 with 20 Axes>"
      ]
     },
     "metadata": {
      "tags": []
     },
     "output_type": "display_data"
    }
   ],
   "source": [
    "import matplotlib.pyplot as plt\n",
    "%matplotlib inline\n",
    "    \n",
    "# obtain one batch of training images\n",
    "dataiter = iter(train_loader)\n",
    "images, labels = dataiter.next()\n",
    "images = images.numpy()\n",
    "\n",
    "# plot the images in the batch, along with the corresponding labels\n",
    "fig = plt.figure(figsize=(25, 4))\n",
    "for idx in np.arange(20):\n",
    "    ax = fig.add_subplot(2, 20/2, idx+1, xticks=[], yticks=[])\n",
    "    ax.imshow(np.squeeze(images[idx]), cmap='gray')\n",
    "    # print out the correct label for each image\n",
    "    # .item() gets the value contained in a Tensor\n",
    "    ax.set_title(str(labels[idx].item()))"
   ]
  },
  {
   "cell_type": "markdown",
   "metadata": {
    "colab_type": "text",
    "id": "RQ4KT8EUk31G"
   },
   "source": [
    "Define the Network Architecture"
   ]
  },
  {
   "cell_type": "code",
   "execution_count": 0,
   "metadata": {
    "colab": {},
    "colab_type": "code",
    "id": "0QX2jg8ZkyKL"
   },
   "outputs": [],
   "source": [
    "import torch.nn as nn\n",
    "import torch.nn.functional as F\n",
    "\n",
    "## Define the NN architecture\n",
    "class Net(nn.Module):\n",
    "    def __init__(self):\n",
    "        super(Net, self).__init__()\n",
    "        self.fc1 = nn.Linear(28 * 28, 512)\n",
    "        # linear layer (n_hidden -> hidden_2)\n",
    "        self.fc2 = nn.Linear(512, 512)\n",
    "        # linear layer (n_hidden -> 10)\n",
    "        self.fc3 = nn.Linear(512, 10)\n",
    "        # dropout layer (p=0.2)\n",
    "        # dropout prevents overfitting of data\n",
    "        self.dropout = nn.Dropout(0.2)\n",
    "\n",
    "    def forward(self, x):\n",
    "        # flatten image input\n",
    "        x = x.view(-1, 28 * 28)\n",
    "        # add hidden layer, with relu activation function\n",
    "        x = F.relu(self.fc1(x))\n",
    "        return x"
   ]
  },
  {
   "cell_type": "code",
   "execution_count": 5,
   "metadata": {
    "colab": {
     "base_uri": "https://localhost:8080/",
     "height": 121
    },
    "colab_type": "code",
    "id": "K0HC-Mdxk-qU",
    "outputId": "e635696d-306a-43ee-fee2-d7e78e210eb8"
   },
   "outputs": [
    {
     "name": "stdout",
     "output_type": "stream",
     "text": [
      "Net(\n",
      "  (fc1): Linear(in_features=784, out_features=512, bias=True)\n",
      "  (fc2): Linear(in_features=512, out_features=512, bias=True)\n",
      "  (fc3): Linear(in_features=512, out_features=10, bias=True)\n",
      "  (dropout): Dropout(p=0.2, inplace=False)\n",
      ")\n"
     ]
    }
   ],
   "source": [
    "# initialize the NN\n",
    "model = Net()\n",
    "print(model)"
   ]
  },
  {
   "cell_type": "markdown",
   "metadata": {
    "colab_type": "text",
    "id": "m2_XKCZJlVMf"
   },
   "source": [
    "\n",
    "Specify Loss Function and Optimizer"
   ]
  },
  {
   "cell_type": "code",
   "execution_count": 0,
   "metadata": {
    "colab": {},
    "colab_type": "code",
    "id": "E-V4vCJAlE0r"
   },
   "outputs": [],
   "source": [
    "criterion = nn.CrossEntropyLoss()\n",
    "\n",
    "# specify optimizer\n",
    "optimizer = torch.optim.SGD(model.parameters(), lr=0.01)"
   ]
  },
  {
   "cell_type": "markdown",
   "metadata": {
    "colab_type": "text",
    "id": "9N3CqItllt_Z"
   },
   "source": [
    " Train the Network"
   ]
  },
  {
   "cell_type": "code",
   "execution_count": 7,
   "metadata": {
    "colab": {
     "base_uri": "https://localhost:8080/",
     "height": 538
    },
    "colab_type": "code",
    "id": "PKW3J1wmll-L",
    "outputId": "9ac2e467-2c1c-4026-dc6c-4e2d553c42a3"
   },
   "outputs": [
    {
     "name": "stdout",
     "output_type": "stream",
     "text": [
      "Epoch: 1 \tTraining Loss: 0.804222\n",
      "Epoch: 2 \tTraining Loss: 0.411707\n",
      "Epoch: 3 \tTraining Loss: 0.370065\n",
      "Epoch: 4 \tTraining Loss: 0.348959\n",
      "Epoch: 5 \tTraining Loss: 0.335502\n",
      "Epoch: 6 \tTraining Loss: 0.325918\n",
      "Epoch: 7 \tTraining Loss: 0.318626\n",
      "Epoch: 8 \tTraining Loss: 0.312826\n",
      "Epoch: 9 \tTraining Loss: 0.308064\n",
      "Epoch: 10 \tTraining Loss: 0.304058\n",
      "Epoch: 11 \tTraining Loss: 0.300624\n",
      "Epoch: 12 \tTraining Loss: 0.297635\n",
      "Epoch: 13 \tTraining Loss: 0.294999\n",
      "Epoch: 14 \tTraining Loss: 0.292651\n",
      "Epoch: 15 \tTraining Loss: 0.290539\n",
      "Epoch: 16 \tTraining Loss: 0.288626\n",
      "Epoch: 17 \tTraining Loss: 0.286881\n",
      "Epoch: 18 \tTraining Loss: 0.285279\n",
      "Epoch: 19 \tTraining Loss: 0.283802\n",
      "Epoch: 20 \tTraining Loss: 0.282434\n",
      "Epoch: 21 \tTraining Loss: 0.281160\n",
      "Epoch: 22 \tTraining Loss: 0.279970\n",
      "Epoch: 23 \tTraining Loss: 0.278856\n",
      "Epoch: 24 \tTraining Loss: 0.277808\n",
      "Epoch: 25 \tTraining Loss: 0.276820\n",
      "Epoch: 26 \tTraining Loss: 0.275887\n",
      "Epoch: 27 \tTraining Loss: 0.275002\n",
      "Epoch: 28 \tTraining Loss: 0.274163\n",
      "Epoch: 29 \tTraining Loss: 0.273365\n",
      "Epoch: 30 \tTraining Loss: 0.272604\n"
     ]
    }
   ],
   "source": [
    "n_epochs = 30  # suggest training between 20-50 epochs\n",
    "\n",
    "model.train() # prep model for training\n",
    "\n",
    "for epoch in range(n_epochs):\n",
    "    # monitor training loss\n",
    "    train_loss = 0.0\n",
    "    \n",
    "    ###################\n",
    "    # train the model #\n",
    "    ###################\n",
    "    for data, target in train_loader:\n",
    "        # clear the gradients of all optimized variables\n",
    "        optimizer.zero_grad()\n",
    "        # forward pass: compute predicted outputs by passing inputs to the model\n",
    "        output = model(data)\n",
    "        # calculate the loss\n",
    "        loss = criterion(output, target)\n",
    "        # backward pass: compute gradient of the loss with respect to model parameters\n",
    "        loss.backward()\n",
    "        # perform a single optimization step (parameter update)\n",
    "        optimizer.step()\n",
    "        # update running training loss\n",
    "        train_loss += loss.item()*data.size(0)\n",
    "        \n",
    "    # print training statistics \n",
    "    # calculate average loss over an epoch\n",
    "    train_loss = train_loss/len(train_loader.dataset)\n",
    "\n",
    "    print('Epoch: {} \\tTraining Loss: {:.6f}'.format(\n",
    "        epoch+1, \n",
    "        train_loss\n",
    "        ))"
   ]
  },
  {
   "cell_type": "markdown",
   "metadata": {
    "colab_type": "text",
    "id": "X45bIWtrmfGL"
   },
   "source": [
    "Test the Trained Network¶"
   ]
  },
  {
   "cell_type": "code",
   "execution_count": 8,
   "metadata": {
    "colab": {
     "base_uri": "https://localhost:8080/",
     "height": 260
    },
    "colab_type": "code",
    "id": "45POKyCcly1I",
    "outputId": "40909153-c095-4981-be32-5ac06768b9cf"
   },
   "outputs": [
    {
     "name": "stdout",
     "output_type": "stream",
     "text": [
      "Test Loss: 0.274007\n",
      "\n",
      "Test Accuracy of     0: 98% (962/980)\n",
      "Test Accuracy of     1: 97% (1109/1135)\n",
      "Test Accuracy of     2: 88% (918/1032)\n",
      "Test Accuracy of     3: 90% (914/1010)\n",
      "Test Accuracy of     4: 92% (909/982)\n",
      "Test Accuracy of     5: 87% (781/892)\n",
      "Test Accuracy of     6: 94% (910/958)\n",
      "Test Accuracy of     7: 92% (946/1028)\n",
      "Test Accuracy of     8: 88% (864/974)\n",
      "Test Accuracy of     9: 90% (916/1009)\n",
      "\n",
      "Test Accuracy (Overall): 92% (9229/10000)\n"
     ]
    }
   ],
   "source": [
    "test_loss = 0.0\n",
    "class_correct = list(0. for i in range(10))\n",
    "class_total = list(0. for i in range(10))\n",
    "\n",
    "model.eval() # prep model for *evaluation*\n",
    "\n",
    "for data, target in test_loader:\n",
    "    # forward pass: compute predicted outputs by passing inputs to the model\n",
    "    output = model(data)\n",
    "    # calculate the loss\n",
    "    loss = criterion(output, target)\n",
    "    # update test loss \n",
    "    test_loss += loss.item()*data.size(0)\n",
    "    # convert output probabilities to predicted class\n",
    "    _, pred = torch.max(output, 1)\n",
    "    # compare predictions to true label\n",
    "    correct = np.squeeze(pred.eq(target.data.view_as(pred)))\n",
    "    # calculate test accuracy for each object class\n",
    "    for i in range(batch_size):\n",
    "        label = target.data[i]\n",
    "        class_correct[label] += correct[i].item()\n",
    "        class_total[label] += 1\n",
    "\n",
    "# calculate and print avg test loss\n",
    "test_loss = test_loss/len(test_loader.dataset)\n",
    "print('Test Loss: {:.6f}\\n'.format(test_loss))\n",
    "\n",
    "for i in range(10):\n",
    "    if class_total[i] > 0:\n",
    "        print('Test Accuracy of %5s: %2d%% (%2d/%2d)' % (\n",
    "            str(i), 100 * class_correct[i] / class_total[i],\n",
    "            np.sum(class_correct[i]), np.sum(class_total[i])))\n",
    "    else:\n",
    "        print('Test Accuracy of %5s: N/A (no training examples)' % (classes[i]))\n",
    "\n",
    "print('\\nTest Accuracy (Overall): %2d%% (%2d/%2d)' % (\n",
    "    100. * np.sum(class_correct) / np.sum(class_total),\n",
    "    np.sum(class_correct), np.sum(class_total)))"
   ]
  },
  {
   "cell_type": "markdown",
   "metadata": {
    "colab_type": "text",
    "id": "nk43DxNEnfYy"
   },
   "source": [
    "Visualize Sample Test Results"
   ]
  },
  {
   "cell_type": "code",
   "execution_count": 9,
   "metadata": {
    "colab": {
     "base_uri": "https://localhost:8080/",
     "height": 229
    },
    "colab_type": "code",
    "id": "7SCaLgETnYWR",
    "outputId": "f827f7d6-6ab4-4154-e963-f587b7b5c2ee"
   },
   "outputs": [
    {
     "data": {
      "image/png": "[encoded data removed]",
      "text/plain": [
       "<Figure size 1800x288 with 20 Axes>"
      ]
     },
     "metadata": {
      "tags": []
     },
     "output_type": "display_data"
    }
   ],
   "source": [
    "dataiter = iter(test_loader)\n",
    "images, labels = dataiter.next()\n",
    "\n",
    "# get sample outputs\n",
    "output = model(images)\n",
    "# convert output probabilities to predicted class\n",
    "_, preds = torch.max(output, 1)\n",
    "# prep images for display\n",
    "images = images.numpy()\n",
    "\n",
    "# plot the images in the batch, along with predicted and true labels\n",
    "fig = plt.figure(figsize=(25, 4))\n",
    "for idx in np.arange(20):\n",
    "    ax = fig.add_subplot(2, 20/2, idx+1, xticks=[], yticks=[])\n",
    "    ax.imshow(np.squeeze(images[idx]), cmap='gray')\n",
    "    ax.set_title(\"{} ({})\".format(str(preds[idx].item()), str(labels[idx].item())),\n",
    "                 color=(\"green\" if preds[idx]==labels[idx] else \"red\"))"
   ]
  },
  {
   "cell_type": "markdown",
   "metadata": {
    "colab_type": "text",
    "id": "u3e0zkJxnu1c"
   },
   "source": [
    "## MNIST Classification using CNN"
   ]
  },
  {
   "cell_type": "code",
   "execution_count": 0,
   "metadata": {
    "colab": {},
    "colab_type": "code",
    "id": "M105zl_4nuqQ"
   },
   "outputs": [],
   "source": [
    "import numpy as np # to handle matrix and data operation\n",
    "import pandas as pd # to read csv and handle dataframe\n",
    "\n",
    "import torch\n",
    "import torch.nn as nn\n",
    "import torch.nn.functional as F\n",
    "import torch.utils.data\n",
    "from torch.autograd import Variable\n",
    "\n",
    "from sklearn.model_selection import train_test_split"
   ]
  },
  {
   "cell_type": "code",
   "execution_count": 0,
   "metadata": {
    "colab": {},
    "colab_type": "code",
    "id": "2uq4LjahniHD"
   },
   "outputs": [],
   "source": [
    "from keras.datasets import mnist\n",
    "(x_train, y_train), (x_test, y_test) = mnist.load_data()"
   ]
  },
  {
   "cell_type": "code",
   "execution_count": 0,
   "metadata": {
    "colab": {},
    "colab_type": "code",
    "id": "z08BhiCgrQ4n"
   },
   "outputs": [],
   "source": [
    "x_train = x_train.reshape(60000,784)\n",
    "x_test = x_test.reshape(10000,784)"
   ]
  },
  {
   "cell_type": "code",
   "execution_count": 0,
   "metadata": {
    "colab": {},
    "colab_type": "code",
    "id": "jhSJHrtCnryS"
   },
   "outputs": [],
   "source": [
    "BATCH_SIZE = 32"
   ]
  },
  {
   "cell_type": "code",
   "execution_count": 0,
   "metadata": {
    "colab": {},
    "colab_type": "code",
    "id": "mudkUrOio8fp"
   },
   "outputs": [],
   "source": [
    "torch_X_train = torch.from_numpy(x_train).type(torch.LongTensor)\n",
    "torch_y_train = torch.from_numpy(y_train).type(torch.LongTensor) "
   ]
  },
  {
   "cell_type": "code",
   "execution_count": 0,
   "metadata": {
    "colab": {},
    "colab_type": "code",
    "id": "Ecwigj0ypZsu"
   },
   "outputs": [],
   "source": [
    "torch_X_test = torch.from_numpy(x_test).type(torch.LongTensor)\n",
    "torch_y_test = torch.from_numpy(y_test).type(torch.LongTensor)"
   ]
  },
  {
   "cell_type": "code",
   "execution_count": 0,
   "metadata": {
    "colab": {},
    "colab_type": "code",
    "id": "e1V5cp_UpiF4"
   },
   "outputs": [],
   "source": [
    "train = torch.utils.data.TensorDataset(torch_X_train,torch_y_train)\n",
    "test = torch.utils.data.TensorDataset(torch_X_test,torch_y_test)"
   ]
  },
  {
   "cell_type": "code",
   "execution_count": 0,
   "metadata": {
    "colab": {},
    "colab_type": "code",
    "id": "tNdygtNNpmqv"
   },
   "outputs": [],
   "source": [
    "train_loader = torch.utils.data.DataLoader(train, batch_size = BATCH_SIZE, shuffle = False)\n",
    "test_loader = torch.utils.data.DataLoader(test, batch_size = BATCH_SIZE, shuffle = False)"
   ]
  },
  {
   "cell_type": "code",
   "execution_count": 59,
   "metadata": {
    "colab": {
     "base_uri": "https://localhost:8080/",
     "height": 104
    },
    "colab_type": "code",
    "id": "2jJOuEk1pp1L",
    "outputId": "d7d9fab1-d01c-49e3-dd40-9244e81509ec"
   },
   "outputs": [
    {
     "name": "stdout",
     "output_type": "stream",
     "text": [
      "MLP(\n",
      "  (linear1): Linear(in_features=784, out_features=250, bias=True)\n",
      "  (linear2): Linear(in_features=250, out_features=100, bias=True)\n",
      "  (linear3): Linear(in_features=100, out_features=10, bias=True)\n",
      ")\n"
     ]
    }
   ],
   "source": [
    "class MLP(nn.Module):\n",
    "    def __init__(self):\n",
    "        super(MLP, self).__init__()\n",
    "        self.linear1 = nn.Linear(784,250)\n",
    "        self.linear2 = nn.Linear(250,100)\n",
    "        self.linear3 = nn.Linear(100,10)\n",
    "    \n",
    "    def forward(self,X):\n",
    "        X = F.relu(self.linear1(X))\n",
    "        X = F.relu(self.linear2(X))\n",
    "        X = self.linear3(X)\n",
    "        return F.log_softmax(X, dim=1)\n",
    " \n",
    "mlp = MLP()\n",
    "print(mlp)"
   ]
  },
  {
   "cell_type": "code",
   "execution_count": 0,
   "metadata": {
    "colab": {},
    "colab_type": "code",
    "id": "FJHbJwwdptzP"
   },
   "outputs": [],
   "source": [
    "def fit(model, train_loader):\n",
    "    optimizer = torch.optim.Adam(model.parameters())#,lr=0.001, betas=(0.9,0.999))\n",
    "    error = nn.CrossEntropyLoss()\n",
    "    EPOCHS = 5\n",
    "    model.train()\n",
    "    for epoch in range(EPOCHS):\n",
    "        correct = 0\n",
    "        for batch_idx, (X_batch, y_batch) in enumerate(train_loader):\n",
    "            var_X_batch = Variable(X_batch).float()\n",
    "            var_y_batch = Variable(y_batch)\n",
    "            optimizer.zero_grad()\n",
    "            output = model(var_X_batch)\n",
    "            loss = error(output, var_y_batch)\n",
    "            loss.backward()\n",
    "            optimizer.step()\n",
    "\n",
    "            # Total correct predictions\n",
    "            predicted = torch.max(output.data, 1)[1] \n",
    "            correct += (predicted == var_y_batch).sum()\n",
    "            #print(correct)\n",
    "            if batch_idx % 50 == 0:\n",
    "                print('Epoch : {} [{}/{} ({:.0f}%)]\\tLoss: {:.6f}\\t Accuracy:{:.3f}%'.format(\n",
    "                    epoch, batch_idx*len(X_batch), len(train_loader.dataset), 100.*batch_idx / len(train_loader), (loss.data), float(correct*100) / float(BATCH_SIZE*(batch_idx+1))))"
   ]
  },
  {
   "cell_type": "code",
   "execution_count": 67,
   "metadata": {
    "colab": {
     "base_uri": "https://localhost:8080/",
     "height": 1000
    },
    "colab_type": "code",
    "id": "qC0K5Brdpyzs",
    "outputId": "6721902c-f61c-4b86-f69d-d03ddd0f9bf2"
   },
   "outputs": [
    {
     "name": "stdout",
     "output_type": "stream",
     "text": [
      "Epoch : 0 [0/60000 (0%)]\tLoss: 0.028779\t Accuracy:100.000%\n",
      "Epoch : 0 [1600/60000 (3%)]\tLoss: 0.135546\t Accuracy:96.875%\n",
      "Epoch : 0 [3200/60000 (5%)]\tLoss: 0.161492\t Accuracy:97.061%\n",
      "Epoch : 0 [4800/60000 (8%)]\tLoss: 0.029837\t Accuracy:97.144%\n",
      "Epoch : 0 [6400/60000 (11%)]\tLoss: 0.251311\t Accuracy:97.233%\n",
      "Epoch : 0 [8000/60000 (13%)]\tLoss: 0.288707\t Accuracy:96.987%\n",
      "Epoch : 0 [9600/60000 (16%)]\tLoss: 0.001341\t Accuracy:96.564%\n",
      "Epoch : 0 [11200/60000 (19%)]\tLoss: 0.147621\t Accuracy:96.270%\n",
      "Epoch : 0 [12800/60000 (21%)]\tLoss: 0.162637\t Accuracy:96.213%\n",
      "Epoch : 0 [14400/60000 (24%)]\tLoss: 0.040754\t Accuracy:96.182%\n",
      "Epoch : 0 [16000/60000 (27%)]\tLoss: 0.053642\t Accuracy:96.214%\n",
      "Epoch : 0 [17600/60000 (29%)]\tLoss: 0.021809\t Accuracy:96.257%\n",
      "Epoch : 0 [19200/60000 (32%)]\tLoss: 0.007951\t Accuracy:96.339%\n",
      "Epoch : 0 [20800/60000 (35%)]\tLoss: 0.117186\t Accuracy:96.376%\n",
      "Epoch : 0 [22400/60000 (37%)]\tLoss: 0.001032\t Accuracy:96.438%\n",
      "Epoch : 0 [24000/60000 (40%)]\tLoss: 0.240103\t Accuracy:96.451%\n",
      "Epoch : 0 [25600/60000 (43%)]\tLoss: 0.097887\t Accuracy:96.497%\n",
      "Epoch : 0 [27200/60000 (45%)]\tLoss: 0.023727\t Accuracy:96.500%\n",
      "Epoch : 0 [28800/60000 (48%)]\tLoss: 0.015119\t Accuracy:96.528%\n",
      "Epoch : 0 [30400/60000 (51%)]\tLoss: 0.070183\t Accuracy:96.537%\n",
      "Epoch : 0 [32000/60000 (53%)]\tLoss: 0.012500\t Accuracy:96.544%\n",
      "Epoch : 0 [33600/60000 (56%)]\tLoss: 0.110607\t Accuracy:96.530%\n",
      "Epoch : 0 [35200/60000 (59%)]\tLoss: 0.357193\t Accuracy:96.540%\n",
      "Epoch : 0 [36800/60000 (61%)]\tLoss: 0.010914\t Accuracy:96.549%\n",
      "Epoch : 0 [38400/60000 (64%)]\tLoss: 0.176304\t Accuracy:96.555%\n",
      "Epoch : 0 [40000/60000 (67%)]\tLoss: 0.098055\t Accuracy:96.530%\n",
      "Epoch : 0 [41600/60000 (69%)]\tLoss: 0.044533\t Accuracy:96.539%\n",
      "Epoch : 0 [43200/60000 (72%)]\tLoss: 0.099969\t Accuracy:96.551%\n",
      "Epoch : 0 [44800/60000 (75%)]\tLoss: 0.024746\t Accuracy:96.576%\n",
      "Epoch : 0 [46400/60000 (77%)]\tLoss: 0.333618\t Accuracy:96.550%\n",
      "Epoch : 0 [48000/60000 (80%)]\tLoss: 0.118122\t Accuracy:96.565%\n",
      "Epoch : 0 [49600/60000 (83%)]\tLoss: 0.100130\t Accuracy:96.555%\n",
      "Epoch : 0 [51200/60000 (85%)]\tLoss: 0.101556\t Accuracy:96.549%\n",
      "Epoch : 0 [52800/60000 (88%)]\tLoss: 0.163493\t Accuracy:96.555%\n",
      "Epoch : 0 [54400/60000 (91%)]\tLoss: 0.001940\t Accuracy:96.550%\n",
      "Epoch : 0 [56000/60000 (93%)]\tLoss: 0.151699\t Accuracy:96.552%\n",
      "Epoch : 0 [57600/60000 (96%)]\tLoss: 0.085508\t Accuracy:96.577%\n",
      "Epoch : 0 [59200/60000 (99%)]\tLoss: 0.006413\t Accuracy:96.607%\n",
      "Epoch : 1 [0/60000 (0%)]\tLoss: 0.066838\t Accuracy:96.875%\n",
      "Epoch : 1 [1600/60000 (3%)]\tLoss: 0.038393\t Accuracy:95.895%\n",
      "Epoch : 1 [3200/60000 (5%)]\tLoss: 0.088629\t Accuracy:96.566%\n",
      "Epoch : 1 [4800/60000 (8%)]\tLoss: 0.073845\t Accuracy:96.978%\n",
      "Epoch : 1 [6400/60000 (11%)]\tLoss: 0.323887\t Accuracy:97.015%\n",
      "Epoch : 1 [8000/60000 (13%)]\tLoss: 0.080831\t Accuracy:97.049%\n",
      "Epoch : 1 [9600/60000 (16%)]\tLoss: 0.028484\t Accuracy:97.103%\n",
      "Epoch : 1 [11200/60000 (19%)]\tLoss: 0.217653\t Accuracy:97.044%\n",
      "Epoch : 1 [12800/60000 (21%)]\tLoss: 0.015726\t Accuracy:97.015%\n",
      "Epoch : 1 [14400/60000 (24%)]\tLoss: 0.031854\t Accuracy:96.993%\n",
      "Epoch : 1 [16000/60000 (27%)]\tLoss: 0.102694\t Accuracy:97.050%\n",
      "Epoch : 1 [17600/60000 (29%)]\tLoss: 0.314560\t Accuracy:97.164%\n",
      "Epoch : 1 [19200/60000 (32%)]\tLoss: 0.043562\t Accuracy:97.192%\n",
      "Epoch : 1 [20800/60000 (35%)]\tLoss: 0.078116\t Accuracy:97.211%\n",
      "Epoch : 1 [22400/60000 (37%)]\tLoss: 0.010395\t Accuracy:97.214%\n",
      "Epoch : 1 [24000/60000 (40%)]\tLoss: 0.008545\t Accuracy:97.241%\n",
      "Epoch : 1 [25600/60000 (43%)]\tLoss: 0.087680\t Accuracy:97.285%\n",
      "Epoch : 1 [27200/60000 (45%)]\tLoss: 0.016307\t Accuracy:97.264%\n",
      "Epoch : 1 [28800/60000 (48%)]\tLoss: 0.070700\t Accuracy:97.295%\n",
      "Epoch : 1 [30400/60000 (51%)]\tLoss: 0.283281\t Accuracy:97.315%\n",
      "Epoch : 1 [32000/60000 (53%)]\tLoss: 0.124514\t Accuracy:97.331%\n",
      "Epoch : 1 [33600/60000 (56%)]\tLoss: 0.077984\t Accuracy:97.265%\n",
      "Epoch : 1 [35200/60000 (59%)]\tLoss: 0.018130\t Accuracy:97.272%\n",
      "Epoch : 1 [36800/60000 (61%)]\tLoss: 0.063739\t Accuracy:97.277%\n",
      "Epoch : 1 [38400/60000 (64%)]\tLoss: 0.262766\t Accuracy:97.250%\n",
      "Epoch : 1 [40000/60000 (67%)]\tLoss: 0.040512\t Accuracy:97.252%\n",
      "Epoch : 1 [41600/60000 (69%)]\tLoss: 0.088825\t Accuracy:97.235%\n",
      "Epoch : 1 [43200/60000 (72%)]\tLoss: 0.161225\t Accuracy:97.213%\n",
      "Epoch : 1 [44800/60000 (75%)]\tLoss: 0.050391\t Accuracy:97.232%\n",
      "Epoch : 1 [46400/60000 (77%)]\tLoss: 0.577136\t Accuracy:97.194%\n",
      "Epoch : 1 [48000/60000 (80%)]\tLoss: 0.154128\t Accuracy:97.183%\n",
      "Epoch : 1 [49600/60000 (83%)]\tLoss: 0.199059\t Accuracy:97.155%\n",
      "Epoch : 1 [51200/60000 (85%)]\tLoss: 0.163394\t Accuracy:97.146%\n",
      "Epoch : 1 [52800/60000 (88%)]\tLoss: 0.163188\t Accuracy:97.161%\n",
      "Epoch : 1 [54400/60000 (91%)]\tLoss: 0.007887\t Accuracy:97.163%\n",
      "Epoch : 1 [56000/60000 (93%)]\tLoss: 0.123494\t Accuracy:97.150%\n",
      "Epoch : 1 [57600/60000 (96%)]\tLoss: 0.084630\t Accuracy:97.167%\n",
      "Epoch : 1 [59200/60000 (99%)]\tLoss: 0.041318\t Accuracy:97.197%\n",
      "Epoch : 2 [0/60000 (0%)]\tLoss: 0.101924\t Accuracy:93.750%\n",
      "Epoch : 2 [1600/60000 (3%)]\tLoss: 0.192111\t Accuracy:96.078%\n",
      "Epoch : 2 [3200/60000 (5%)]\tLoss: 0.070167\t Accuracy:97.123%\n",
      "Epoch : 2 [4800/60000 (8%)]\tLoss: 0.023145\t Accuracy:97.413%\n",
      "Epoch : 2 [6400/60000 (11%)]\tLoss: 0.164375\t Accuracy:97.217%\n",
      "Epoch : 2 [8000/60000 (13%)]\tLoss: 0.206731\t Accuracy:97.261%\n",
      "Epoch : 2 [9600/60000 (16%)]\tLoss: 0.013814\t Accuracy:97.228%\n",
      "Epoch : 2 [11200/60000 (19%)]\tLoss: 0.189980\t Accuracy:97.302%\n",
      "Epoch : 2 [12800/60000 (21%)]\tLoss: 0.094958\t Accuracy:97.319%\n",
      "Epoch : 2 [14400/60000 (24%)]\tLoss: 0.015213\t Accuracy:97.367%\n",
      "Epoch : 2 [16000/60000 (27%)]\tLoss: 0.093988\t Accuracy:97.287%\n",
      "Epoch : 2 [17600/60000 (29%)]\tLoss: 0.621408\t Accuracy:97.221%\n",
      "Epoch : 2 [19200/60000 (32%)]\tLoss: 0.108640\t Accuracy:97.223%\n",
      "Epoch : 2 [20800/60000 (35%)]\tLoss: 0.021036\t Accuracy:97.216%\n",
      "Epoch : 2 [22400/60000 (37%)]\tLoss: 0.001247\t Accuracy:97.209%\n",
      "Epoch : 2 [24000/60000 (40%)]\tLoss: 0.015268\t Accuracy:97.233%\n",
      "Epoch : 2 [25600/60000 (43%)]\tLoss: 0.101386\t Accuracy:97.261%\n",
      "Epoch : 2 [27200/60000 (45%)]\tLoss: 0.131324\t Accuracy:97.239%\n",
      "Epoch : 2 [28800/60000 (48%)]\tLoss: 0.069168\t Accuracy:97.243%\n",
      "Epoch : 2 [30400/60000 (51%)]\tLoss: 0.025075\t Accuracy:97.282%\n",
      "Epoch : 2 [32000/60000 (53%)]\tLoss: 0.016453\t Accuracy:97.300%\n",
      "Epoch : 2 [33600/60000 (56%)]\tLoss: 0.020328\t Accuracy:97.273%\n",
      "Epoch : 2 [35200/60000 (59%)]\tLoss: 0.872610\t Accuracy:97.298%\n",
      "Epoch : 2 [36800/60000 (61%)]\tLoss: 0.101088\t Accuracy:97.296%\n",
      "Epoch : 2 [38400/60000 (64%)]\tLoss: 0.088246\t Accuracy:97.294%\n",
      "Epoch : 2 [40000/60000 (67%)]\tLoss: 0.119826\t Accuracy:97.302%\n",
      "Epoch : 2 [41600/60000 (69%)]\tLoss: 0.052212\t Accuracy:97.324%\n",
      "Epoch : 2 [43200/60000 (72%)]\tLoss: 0.325394\t Accuracy:97.305%\n",
      "Epoch : 2 [44800/60000 (75%)]\tLoss: 0.062563\t Accuracy:97.310%\n",
      "Epoch : 2 [46400/60000 (77%)]\tLoss: 0.133759\t Accuracy:97.273%\n",
      "Epoch : 2 [48000/60000 (80%)]\tLoss: 0.219807\t Accuracy:97.271%\n",
      "Epoch : 2 [49600/60000 (83%)]\tLoss: 0.019319\t Accuracy:97.288%\n",
      "Epoch : 2 [51200/60000 (85%)]\tLoss: 0.045573\t Accuracy:97.273%\n",
      "Epoch : 2 [52800/60000 (88%)]\tLoss: 0.129453\t Accuracy:97.265%\n",
      "Epoch : 2 [54400/60000 (91%)]\tLoss: 0.037412\t Accuracy:97.270%\n",
      "Epoch : 2 [56000/60000 (93%)]\tLoss: 0.061451\t Accuracy:97.275%\n",
      "Epoch : 2 [57600/60000 (96%)]\tLoss: 0.268131\t Accuracy:97.278%\n",
      "Epoch : 2 [59200/60000 (99%)]\tLoss: 0.029599\t Accuracy:97.316%\n",
      "Epoch : 3 [0/60000 (0%)]\tLoss: 0.151179\t Accuracy:93.750%\n",
      "Epoch : 3 [1600/60000 (3%)]\tLoss: 0.128003\t Accuracy:96.446%\n",
      "Epoch : 3 [3200/60000 (5%)]\tLoss: 0.006657\t Accuracy:97.308%\n",
      "Epoch : 3 [4800/60000 (8%)]\tLoss: 0.015271\t Accuracy:97.392%\n",
      "Epoch : 3 [6400/60000 (11%)]\tLoss: 0.127014\t Accuracy:97.404%\n",
      "Epoch : 3 [8000/60000 (13%)]\tLoss: 0.137492\t Accuracy:97.323%\n",
      "Epoch : 3 [9600/60000 (16%)]\tLoss: 0.011746\t Accuracy:97.290%\n",
      "Epoch : 3 [11200/60000 (19%)]\tLoss: 0.193034\t Accuracy:97.391%\n",
      "Epoch : 3 [12800/60000 (21%)]\tLoss: 0.151988\t Accuracy:97.506%\n",
      "Epoch : 3 [14400/60000 (24%)]\tLoss: 0.001826\t Accuracy:97.561%\n",
      "Epoch : 3 [16000/60000 (27%)]\tLoss: 0.038850\t Accuracy:97.493%\n",
      "Epoch : 3 [17600/60000 (29%)]\tLoss: 0.005036\t Accuracy:97.533%\n",
      "Epoch : 3 [19200/60000 (32%)]\tLoss: 0.041748\t Accuracy:97.577%\n",
      "Epoch : 3 [20800/60000 (35%)]\tLoss: 0.061989\t Accuracy:97.552%\n",
      "Epoch : 3 [22400/60000 (37%)]\tLoss: 0.000083\t Accuracy:97.562%\n",
      "Epoch : 3 [24000/60000 (40%)]\tLoss: 0.010684\t Accuracy:97.562%\n",
      "Epoch : 3 [25600/60000 (43%)]\tLoss: 0.035633\t Accuracy:97.554%\n",
      "Epoch : 3 [27200/60000 (45%)]\tLoss: 0.003687\t Accuracy:97.536%\n",
      "Epoch : 3 [28800/60000 (48%)]\tLoss: 0.059841\t Accuracy:97.562%\n",
      "Epoch : 3 [30400/60000 (51%)]\tLoss: 0.055981\t Accuracy:97.581%\n",
      "Epoch : 3 [32000/60000 (53%)]\tLoss: 0.057697\t Accuracy:97.596%\n",
      "Epoch : 3 [33600/60000 (56%)]\tLoss: 0.099345\t Accuracy:97.589%\n",
      "Epoch : 3 [35200/60000 (59%)]\tLoss: 0.004503\t Accuracy:97.593%\n",
      "Epoch : 3 [36800/60000 (61%)]\tLoss: 0.132729\t Accuracy:97.597%\n",
      "Epoch : 3 [38400/60000 (64%)]\tLoss: 0.078958\t Accuracy:97.580%\n",
      "Epoch : 3 [40000/60000 (67%)]\tLoss: 0.049452\t Accuracy:97.577%\n",
      "Epoch : 3 [41600/60000 (69%)]\tLoss: 0.001719\t Accuracy:97.574%\n",
      "Epoch : 3 [43200/60000 (72%)]\tLoss: 0.175857\t Accuracy:97.580%\n",
      "Epoch : 3 [44800/60000 (75%)]\tLoss: 0.034069\t Accuracy:97.589%\n",
      "Epoch : 3 [46400/60000 (77%)]\tLoss: 0.021272\t Accuracy:97.599%\n",
      "Epoch : 3 [48000/60000 (80%)]\tLoss: 0.064088\t Accuracy:97.620%\n",
      "Epoch : 3 [49600/60000 (83%)]\tLoss: 0.003137\t Accuracy:97.625%\n",
      "Epoch : 3 [51200/60000 (85%)]\tLoss: 0.014169\t Accuracy:97.628%\n",
      "Epoch : 3 [52800/60000 (88%)]\tLoss: 0.221221\t Accuracy:97.625%\n",
      "Epoch : 3 [54400/60000 (91%)]\tLoss: 0.001268\t Accuracy:97.612%\n",
      "Epoch : 3 [56000/60000 (93%)]\tLoss: 0.063965\t Accuracy:97.596%\n",
      "Epoch : 3 [57600/60000 (96%)]\tLoss: 0.254212\t Accuracy:97.604%\n",
      "Epoch : 3 [59200/60000 (99%)]\tLoss: 0.000153\t Accuracy:97.633%\n",
      "Epoch : 4 [0/60000 (0%)]\tLoss: 0.077204\t Accuracy:96.875%\n",
      "Epoch : 4 [1600/60000 (3%)]\tLoss: 0.160978\t Accuracy:97.059%\n",
      "Epoch : 4 [3200/60000 (5%)]\tLoss: 0.022128\t Accuracy:97.463%\n",
      "Epoch : 4 [4800/60000 (8%)]\tLoss: 0.087849\t Accuracy:97.641%\n",
      "Epoch : 4 [6400/60000 (11%)]\tLoss: 0.282174\t Accuracy:97.512%\n",
      "Epoch : 4 [8000/60000 (13%)]\tLoss: 0.022924\t Accuracy:97.572%\n",
      "Epoch : 4 [9600/60000 (16%)]\tLoss: 0.057789\t Accuracy:97.456%\n",
      "Epoch : 4 [11200/60000 (19%)]\tLoss: 0.173873\t Accuracy:97.480%\n",
      "Epoch : 4 [12800/60000 (21%)]\tLoss: 0.177891\t Accuracy:97.498%\n",
      "Epoch : 4 [14400/60000 (24%)]\tLoss: 0.058999\t Accuracy:97.568%\n",
      "Epoch : 4 [16000/60000 (27%)]\tLoss: 0.087360\t Accuracy:97.493%\n",
      "Epoch : 4 [17600/60000 (29%)]\tLoss: 0.002993\t Accuracy:97.544%\n",
      "Epoch : 4 [19200/60000 (32%)]\tLoss: 0.007460\t Accuracy:97.577%\n",
      "Epoch : 4 [20800/60000 (35%)]\tLoss: 0.172938\t Accuracy:97.576%\n",
      "Epoch : 4 [22400/60000 (37%)]\tLoss: 0.003647\t Accuracy:97.597%\n",
      "Epoch : 4 [24000/60000 (40%)]\tLoss: 0.003558\t Accuracy:97.616%\n",
      "Epoch : 4 [25600/60000 (43%)]\tLoss: 0.123521\t Accuracy:97.651%\n",
      "Epoch : 4 [27200/60000 (45%)]\tLoss: 0.062108\t Accuracy:97.650%\n",
      "Epoch : 4 [28800/60000 (48%)]\tLoss: 0.079932\t Accuracy:97.683%\n",
      "Epoch : 4 [30400/60000 (51%)]\tLoss: 0.002716\t Accuracy:97.703%\n",
      "Epoch : 4 [32000/60000 (53%)]\tLoss: 0.218044\t Accuracy:97.687%\n",
      "Epoch : 4 [33600/60000 (56%)]\tLoss: 0.009926\t Accuracy:97.693%\n",
      "Epoch : 4 [35200/60000 (59%)]\tLoss: 0.001960\t Accuracy:97.707%\n",
      "Epoch : 4 [36800/60000 (61%)]\tLoss: 0.003491\t Accuracy:97.706%\n",
      "Epoch : 4 [38400/60000 (64%)]\tLoss: 0.193213\t Accuracy:97.684%\n",
      "Epoch : 4 [40000/60000 (67%)]\tLoss: 0.121122\t Accuracy:97.677%\n",
      "Epoch : 4 [41600/60000 (69%)]\tLoss: 0.058635\t Accuracy:97.672%\n",
      "Epoch : 4 [43200/60000 (72%)]\tLoss: 0.121910\t Accuracy:97.668%\n",
      "Epoch : 4 [44800/60000 (75%)]\tLoss: 0.020887\t Accuracy:97.711%\n",
      "Epoch : 4 [46400/60000 (77%)]\tLoss: 0.099990\t Accuracy:97.676%\n",
      "Epoch : 4 [48000/60000 (80%)]\tLoss: 0.167490\t Accuracy:97.677%\n",
      "Epoch : 4 [49600/60000 (83%)]\tLoss: 0.096079\t Accuracy:97.671%\n",
      "Epoch : 4 [51200/60000 (85%)]\tLoss: 0.009618\t Accuracy:97.687%\n",
      "Epoch : 4 [52800/60000 (88%)]\tLoss: 0.322359\t Accuracy:97.714%\n",
      "Epoch : 4 [54400/60000 (91%)]\tLoss: 0.001315\t Accuracy:97.702%\n",
      "Epoch : 4 [56000/60000 (93%)]\tLoss: 0.065532\t Accuracy:97.717%\n",
      "Epoch : 4 [57600/60000 (96%)]\tLoss: 0.120293\t Accuracy:97.729%\n",
      "Epoch : 4 [59200/60000 (99%)]\tLoss: 0.000217\t Accuracy:97.758%\n"
     ]
    }
   ],
   "source": [
    "fit(mlp, train_loader)"
   ]
  },
  {
   "cell_type": "code",
   "execution_count": 68,
   "metadata": {
    "colab": {
     "base_uri": "https://localhost:8080/",
     "height": 34
    },
    "colab_type": "code",
    "id": "DL1y_us1p4Rq",
    "outputId": "a0b1af98-e169-4a19-e238-94a3aa93af0d"
   },
   "outputs": [
    {
     "name": "stdout",
     "output_type": "stream",
     "text": [
      "Test accuracy:0.971% \n"
     ]
    }
   ],
   "source": [
    "def evaluate(model):\n",
    "#model = mlp\n",
    "    correct = 0 \n",
    "    for test_imgs, test_labels in test_loader:\n",
    "        #print(test_imgs.shape)\n",
    "        test_imgs = Variable(test_imgs).float()\n",
    "        output = model(test_imgs)\n",
    "        predicted = torch.max(output,1)[1]\n",
    "        correct += (predicted == test_labels).sum()\n",
    "    print(\"Test accuracy:{:.3f}% \".format( float(correct) / (len(test_loader)*BATCH_SIZE)))\n",
    "evaluate(mlp)"
   ]
  },
  {
   "cell_type": "markdown",
   "metadata": {
    "colab_type": "text",
    "id": "6EZOO3krtnVD"
   },
   "source": [
    "##Since a CNN needs a image shape as input let's reshape our flatten images to real image"
   ]
  },
  {
   "cell_type": "code",
   "execution_count": 69,
   "metadata": {
    "colab": {
     "base_uri": "https://localhost:8080/",
     "height": 52
    },
    "colab_type": "code",
    "id": "35Zzn4jntRMb",
    "outputId": "c67b7f55-91e6-49cb-8767-1068a69d3133"
   },
   "outputs": [
    {
     "name": "stdout",
     "output_type": "stream",
     "text": [
      "torch.Size([60000, 1, 28, 28])\n",
      "torch.Size([10000, 1, 28, 28])\n"
     ]
    }
   ],
   "source": [
    "torch_X_train = torch_X_train.view(-1, 1,28,28).float()\n",
    "torch_X_test = torch_X_test.view(-1,1,28,28).float()\n",
    "print(torch_X_train.shape)\n",
    "print(torch_X_test.shape)\n",
    "\n",
    "# Pytorch train and test sets\n",
    "train = torch.utils.data.TensorDataset(torch_X_train,torch_y_train)\n",
    "test = torch.utils.data.TensorDataset(torch_X_test,torch_y_test)\n",
    "\n",
    "# data loader\n",
    "train_loader = torch.utils.data.DataLoader(train, batch_size = BATCH_SIZE, shuffle = False)\n",
    "test_loader = torch.utils.data.DataLoader(test, batch_size = BATCH_SIZE, shuffle = False)MB "
   ]
  },
  {
   "cell_type": "code",
   "execution_count": 70,
   "metadata": {
    "colab": {
     "base_uri": "https://localhost:8080/",
     "height": 156
    },
    "colab_type": "code",
    "id": "cT7rIhHEtteq",
    "outputId": "d3595cf5-3111-49bd-be53-d98426597ce3"
   },
   "outputs": [
    {
     "name": "stdout",
     "output_type": "stream",
     "text": [
      "CNN(\n",
      "  (conv1): Conv2d(1, 32, kernel_size=(5, 5), stride=(1, 1))\n",
      "  (conv2): Conv2d(32, 32, kernel_size=(5, 5), stride=(1, 1))\n",
      "  (conv3): Conv2d(32, 64, kernel_size=(5, 5), stride=(1, 1))\n",
      "  (fc1): Linear(in_features=576, out_features=256, bias=True)\n",
      "  (fc2): Linear(in_features=256, out_features=10, bias=True)\n",
      ")\n",
      "torch.Size([32, 10])\n"
     ]
    }
   ],
   "source": [
    "class CNN(nn.Module):\n",
    "    def __init__(self):\n",
    "        super(CNN, self).__init__()\n",
    "        self.conv1 = nn.Conv2d(1, 32, kernel_size=5)\n",
    "        self.conv2 = nn.Conv2d(32, 32, kernel_size=5)\n",
    "        self.conv3 = nn.Conv2d(32,64, kernel_size=5)\n",
    "        self.fc1 = nn.Linear(3*3*64, 256)\n",
    "        self.fc2 = nn.Linear(256, 10)\n",
    "\n",
    "    def forward(self, x):\n",
    "        x = F.relu(self.conv1(x))\n",
    "        #x = F.dropout(x, p=0.5, training=self.training)\n",
    "        x = F.relu(F.max_pool2d(self.conv2(x), 2))\n",
    "        x = F.dropout(x, p=0.5, training=self.training)\n",
    "        x = F.relu(F.max_pool2d(self.conv3(x),2))\n",
    "        x = F.dropout(x, p=0.5, training=self.training)\n",
    "        x = x.view(-1,3*3*64 )\n",
    "        x = F.relu(self.fc1(x))\n",
    "        x = F.dropout(x, training=self.training)\n",
    "        x = self.fc2(x)\n",
    "        return F.log_softmax(x, dim=1)\n",
    " \n",
    "cnn = CNN()\n",
    "print(cnn)\n",
    "\n",
    "it = iter(train_loader)\n",
    "X_batch, y_batch = next(it)\n",
    "print(cnn.forward(X_batch).shape)"
   ]
  },
  {
   "cell_type": "code",
   "execution_count": 71,
   "metadata": {
    "colab": {
     "base_uri": "https://localhost:8080/",
     "height": 1000
    },
    "colab_type": "code",
    "id": "OJMAsRQ_txoz",
    "outputId": "d513e292-763f-4f92-9b54-7396ec246336"
   },
   "outputs": [
    {
     "name": "stdout",
     "output_type": "stream",
     "text": [
      "Epoch : 0 [0/60000 (0%)]\tLoss: 24.703955\t Accuracy:6.250%\n",
      "Epoch : 0 [1600/60000 (3%)]\tLoss: 1.980315\t Accuracy:17.279%\n",
      "Epoch : 0 [3200/60000 (5%)]\tLoss: 1.460487\t Accuracy:29.115%\n",
      "Epoch : 0 [4800/60000 (8%)]\tLoss: 0.748759\t Accuracy:38.949%\n",
      "Epoch : 0 [6400/60000 (11%)]\tLoss: 1.238455\t Accuracy:45.553%\n",
      "Epoch : 0 [8000/60000 (13%)]\tLoss: 0.865389\t Accuracy:50.461%\n",
      "Epoch : 0 [9600/60000 (16%)]\tLoss: 0.764462\t Accuracy:54.485%\n",
      "Epoch : 0 [11200/60000 (19%)]\tLoss: 0.602340\t Accuracy:58.191%\n",
      "Epoch : 0 [12800/60000 (21%)]\tLoss: 0.548422\t Accuracy:60.793%\n",
      "Epoch : 0 [14400/60000 (24%)]\tLoss: 0.491586\t Accuracy:63.089%\n",
      "Epoch : 0 [16000/60000 (27%)]\tLoss: 0.702923\t Accuracy:64.814%\n",
      "Epoch : 0 [17600/60000 (29%)]\tLoss: 0.591373\t Accuracy:66.640%\n",
      "Epoch : 0 [19200/60000 (32%)]\tLoss: 0.427941\t Accuracy:68.225%\n",
      "Epoch : 0 [20800/60000 (35%)]\tLoss: 0.508253\t Accuracy:69.772%\n",
      "Epoch : 0 [22400/60000 (37%)]\tLoss: 0.220711\t Accuracy:71.122%\n",
      "Epoch : 0 [24000/60000 (40%)]\tLoss: 0.182511\t Accuracy:72.121%\n",
      "Epoch : 0 [25600/60000 (43%)]\tLoss: 0.578731\t Accuracy:73.174%\n",
      "Epoch : 0 [27200/60000 (45%)]\tLoss: 0.405716\t Accuracy:74.104%\n",
      "Epoch : 0 [28800/60000 (48%)]\tLoss: 0.335528\t Accuracy:75.035%\n",
      "Epoch : 0 [30400/60000 (51%)]\tLoss: 0.524058\t Accuracy:75.710%\n",
      "Epoch : 0 [32000/60000 (53%)]\tLoss: 0.522807\t Accuracy:76.346%\n",
      "Epoch : 0 [33600/60000 (56%)]\tLoss: 0.353773\t Accuracy:77.019%\n",
      "Epoch : 0 [35200/60000 (59%)]\tLoss: 0.348661\t Accuracy:77.677%\n",
      "Epoch : 0 [36800/60000 (61%)]\tLoss: 0.335008\t Accuracy:78.307%\n",
      "Epoch : 0 [38400/60000 (64%)]\tLoss: 0.295484\t Accuracy:78.841%\n",
      "Epoch : 0 [40000/60000 (67%)]\tLoss: 0.330925\t Accuracy:79.359%\n",
      "Epoch : 0 [41600/60000 (69%)]\tLoss: 0.761555\t Accuracy:79.790%\n",
      "Epoch : 0 [43200/60000 (72%)]\tLoss: 0.308168\t Accuracy:80.204%\n",
      "Epoch : 0 [44800/60000 (75%)]\tLoss: 0.039641\t Accuracy:80.661%\n",
      "Epoch : 0 [46400/60000 (77%)]\tLoss: 0.347005\t Accuracy:81.032%\n",
      "Epoch : 0 [48000/60000 (80%)]\tLoss: 0.695292\t Accuracy:81.404%\n",
      "Epoch : 0 [49600/60000 (83%)]\tLoss: 0.664559\t Accuracy:81.742%\n",
      "Epoch : 0 [51200/60000 (85%)]\tLoss: 0.267460\t Accuracy:82.083%\n",
      "Epoch : 0 [52800/60000 (88%)]\tLoss: 0.457143\t Accuracy:82.418%\n",
      "Epoch : 0 [54400/60000 (91%)]\tLoss: 0.123103\t Accuracy:82.742%\n",
      "Epoch : 0 [56000/60000 (93%)]\tLoss: 0.171987\t Accuracy:83.040%\n",
      "Epoch : 0 [57600/60000 (96%)]\tLoss: 0.293099\t Accuracy:83.320%\n",
      "Epoch : 0 [59200/60000 (99%)]\tLoss: 0.139004\t Accuracy:83.656%\n",
      "Epoch : 1 [0/60000 (0%)]\tLoss: 0.197437\t Accuracy:93.750%\n",
      "Epoch : 1 [1600/60000 (3%)]\tLoss: 0.182057\t Accuracy:93.137%\n",
      "Epoch : 1 [3200/60000 (5%)]\tLoss: 0.449420\t Accuracy:94.028%\n",
      "Epoch : 1 [4800/60000 (8%)]\tLoss: 0.116307\t Accuracy:93.729%\n",
      "Epoch : 1 [6400/60000 (11%)]\tLoss: 0.029951\t Accuracy:93.797%\n",
      "Epoch : 1 [8000/60000 (13%)]\tLoss: 0.101050\t Accuracy:93.875%\n",
      "Epoch : 1 [9600/60000 (16%)]\tLoss: 0.333615\t Accuracy:93.625%\n",
      "Epoch : 1 [11200/60000 (19%)]\tLoss: 0.426801\t Accuracy:93.643%\n",
      "Epoch : 1 [12800/60000 (21%)]\tLoss: 0.298322\t Accuracy:93.462%\n",
      "Epoch : 1 [14400/60000 (24%)]\tLoss: 0.108020\t Accuracy:93.528%\n",
      "Epoch : 1 [16000/60000 (27%)]\tLoss: 0.474114\t Accuracy:93.469%\n",
      "Epoch : 1 [17600/60000 (29%)]\tLoss: 0.277469\t Accuracy:93.455%\n",
      "Epoch : 1 [19200/60000 (32%)]\tLoss: 0.163615\t Accuracy:93.506%\n",
      "Epoch : 1 [20800/60000 (35%)]\tLoss: 0.227395\t Accuracy:93.568%\n",
      "Epoch : 1 [22400/60000 (37%)]\tLoss: 0.010190\t Accuracy:93.630%\n",
      "Epoch : 1 [24000/60000 (40%)]\tLoss: 0.085058\t Accuracy:93.633%\n",
      "Epoch : 1 [25600/60000 (43%)]\tLoss: 0.092341\t Accuracy:93.606%\n",
      "Epoch : 1 [27200/60000 (45%)]\tLoss: 0.161767\t Accuracy:93.548%\n",
      "Epoch : 1 [28800/60000 (48%)]\tLoss: 0.029576\t Accuracy:93.573%\n",
      "Epoch : 1 [30400/60000 (51%)]\tLoss: 0.205116\t Accuracy:93.589%\n",
      "Epoch : 1 [32000/60000 (53%)]\tLoss: 0.252389\t Accuracy:93.581%\n",
      "Epoch : 1 [33600/60000 (56%)]\tLoss: 0.318719\t Accuracy:93.583%\n",
      "Epoch : 1 [35200/60000 (59%)]\tLoss: 0.124187\t Accuracy:93.583%\n",
      "Epoch : 1 [36800/60000 (61%)]\tLoss: 0.110199\t Accuracy:93.636%\n",
      "Epoch : 1 [38400/60000 (64%)]\tLoss: 0.135114\t Accuracy:93.633%\n",
      "Epoch : 1 [40000/60000 (67%)]\tLoss: 0.337480\t Accuracy:93.608%\n",
      "Epoch : 1 [41600/60000 (69%)]\tLoss: 0.151904\t Accuracy:93.637%\n",
      "Epoch : 1 [43200/60000 (72%)]\tLoss: 0.201784\t Accuracy:93.651%\n",
      "Epoch : 1 [44800/60000 (75%)]\tLoss: 0.120788\t Accuracy:93.670%\n",
      "Epoch : 1 [46400/60000 (77%)]\tLoss: 0.631979\t Accuracy:93.638%\n",
      "Epoch : 1 [48000/60000 (80%)]\tLoss: 0.330198\t Accuracy:93.644%\n",
      "Epoch : 1 [49600/60000 (83%)]\tLoss: 0.092436\t Accuracy:93.667%\n",
      "Epoch : 1 [51200/60000 (85%)]\tLoss: 0.046334\t Accuracy:93.693%\n",
      "Epoch : 1 [52800/60000 (88%)]\tLoss: 0.316572\t Accuracy:93.701%\n",
      "Epoch : 1 [54400/60000 (91%)]\tLoss: 0.114109\t Accuracy:93.695%\n",
      "Epoch : 1 [56000/60000 (93%)]\tLoss: 0.394695\t Accuracy:93.727%\n",
      "Epoch : 1 [57600/60000 (96%)]\tLoss: 0.083526\t Accuracy:93.792%\n",
      "Epoch : 1 [59200/60000 (99%)]\tLoss: 0.015199\t Accuracy:93.860%\n",
      "Epoch : 2 [0/60000 (0%)]\tLoss: 0.217455\t Accuracy:90.625%\n",
      "Epoch : 2 [1600/60000 (3%)]\tLoss: 0.406698\t Accuracy:94.056%\n",
      "Epoch : 2 [3200/60000 (5%)]\tLoss: 0.423212\t Accuracy:94.864%\n",
      "Epoch : 2 [4800/60000 (8%)]\tLoss: 0.065729\t Accuracy:94.454%\n",
      "Epoch : 2 [6400/60000 (11%)]\tLoss: 0.006236\t Accuracy:94.325%\n",
      "Epoch : 2 [8000/60000 (13%)]\tLoss: 0.204239\t Accuracy:94.410%\n",
      "Epoch : 2 [9600/60000 (16%)]\tLoss: 0.303900\t Accuracy:94.248%\n",
      "Epoch : 2 [11200/60000 (19%)]\tLoss: 0.255757\t Accuracy:94.436%\n",
      "Epoch : 2 [12800/60000 (21%)]\tLoss: 0.152741\t Accuracy:94.459%\n",
      "Epoch : 2 [14400/60000 (24%)]\tLoss: 0.082564\t Accuracy:94.471%\n",
      "Epoch : 2 [16000/60000 (27%)]\tLoss: 0.283941\t Accuracy:94.374%\n",
      "Epoch : 2 [17600/60000 (29%)]\tLoss: 0.014378\t Accuracy:94.380%\n",
      "Epoch : 2 [19200/60000 (32%)]\tLoss: 0.083600\t Accuracy:94.452%\n",
      "Epoch : 2 [20800/60000 (35%)]\tLoss: 0.360928\t Accuracy:94.556%\n",
      "Epoch : 2 [22400/60000 (37%)]\tLoss: 0.102351\t Accuracy:94.593%\n",
      "Epoch : 2 [24000/60000 (40%)]\tLoss: 0.109202\t Accuracy:94.653%\n",
      "Epoch : 2 [25600/60000 (43%)]\tLoss: 0.092279\t Accuracy:94.714%\n",
      "Epoch : 2 [27200/60000 (45%)]\tLoss: 0.241476\t Accuracy:94.679%\n",
      "Epoch : 2 [28800/60000 (48%)]\tLoss: 0.107590\t Accuracy:94.704%\n",
      "Epoch : 2 [30400/60000 (51%)]\tLoss: 0.188392\t Accuracy:94.759%\n",
      "Epoch : 2 [32000/60000 (53%)]\tLoss: 0.298663\t Accuracy:94.699%\n",
      "Epoch : 2 [33600/60000 (56%)]\tLoss: 0.165397\t Accuracy:94.690%\n",
      "Epoch : 2 [35200/60000 (59%)]\tLoss: 0.109414\t Accuracy:94.738%\n",
      "Epoch : 2 [36800/60000 (61%)]\tLoss: 0.111880\t Accuracy:94.790%\n",
      "Epoch : 2 [38400/60000 (64%)]\tLoss: 0.247883\t Accuracy:94.786%\n",
      "Epoch : 2 [40000/60000 (67%)]\tLoss: 0.241609\t Accuracy:94.799%\n",
      "Epoch : 2 [41600/60000 (69%)]\tLoss: 0.274725\t Accuracy:94.809%\n",
      "Epoch : 2 [43200/60000 (72%)]\tLoss: 0.335197\t Accuracy:94.828%\n",
      "Epoch : 2 [44800/60000 (75%)]\tLoss: 0.005174\t Accuracy:94.872%\n",
      "Epoch : 2 [46400/60000 (77%)]\tLoss: 1.024677\t Accuracy:94.889%\n",
      "Epoch : 2 [48000/60000 (80%)]\tLoss: 0.283337\t Accuracy:94.860%\n",
      "Epoch : 2 [49600/60000 (83%)]\tLoss: 0.264172\t Accuracy:94.854%\n",
      "Epoch : 2 [51200/60000 (85%)]\tLoss: 0.145659\t Accuracy:94.857%\n",
      "Epoch : 2 [52800/60000 (88%)]\tLoss: 0.662844\t Accuracy:94.893%\n",
      "Epoch : 2 [54400/60000 (91%)]\tLoss: 0.017660\t Accuracy:94.922%\n",
      "Epoch : 2 [56000/60000 (93%)]\tLoss: 0.118975\t Accuracy:94.960%\n",
      "Epoch : 2 [57600/60000 (96%)]\tLoss: 0.390172\t Accuracy:94.961%\n",
      "Epoch : 2 [59200/60000 (99%)]\tLoss: 0.000941\t Accuracy:95.016%\n",
      "Epoch : 3 [0/60000 (0%)]\tLoss: 0.039304\t Accuracy:96.875%\n",
      "Epoch : 3 [1600/60000 (3%)]\tLoss: 0.274808\t Accuracy:94.424%\n",
      "Epoch : 3 [3200/60000 (5%)]\tLoss: 0.082404\t Accuracy:95.142%\n",
      "Epoch : 3 [4800/60000 (8%)]\tLoss: 0.180459\t Accuracy:95.281%\n",
      "Epoch : 3 [6400/60000 (11%)]\tLoss: 0.055648\t Accuracy:95.134%\n",
      "Epoch : 3 [8000/60000 (13%)]\tLoss: 0.032606\t Accuracy:95.219%\n",
      "Epoch : 3 [9600/60000 (16%)]\tLoss: 0.057986\t Accuracy:94.975%\n",
      "Epoch : 3 [11200/60000 (19%)]\tLoss: 0.275520\t Accuracy:95.103%\n",
      "Epoch : 3 [12800/60000 (21%)]\tLoss: 0.070716\t Accuracy:94.950%\n",
      "Epoch : 3 [14400/60000 (24%)]\tLoss: 0.027030\t Accuracy:94.928%\n",
      "Epoch : 3 [16000/60000 (27%)]\tLoss: 0.066866\t Accuracy:94.941%\n",
      "Epoch : 3 [17600/60000 (29%)]\tLoss: 0.028506\t Accuracy:94.941%\n",
      "Epoch : 3 [19200/60000 (32%)]\tLoss: 0.219603\t Accuracy:94.998%\n",
      "Epoch : 3 [20800/60000 (35%)]\tLoss: 0.051435\t Accuracy:94.993%\n",
      "Epoch : 3 [22400/60000 (37%)]\tLoss: 0.011864\t Accuracy:95.047%\n",
      "Epoch : 3 [24000/60000 (40%)]\tLoss: 0.177396\t Accuracy:95.073%\n",
      "Epoch : 3 [25600/60000 (43%)]\tLoss: 0.050125\t Accuracy:95.154%\n",
      "Epoch : 3 [27200/60000 (45%)]\tLoss: 0.215653\t Accuracy:95.131%\n",
      "Epoch : 3 [28800/60000 (48%)]\tLoss: 0.357761\t Accuracy:95.106%\n",
      "Epoch : 3 [30400/60000 (51%)]\tLoss: 0.303260\t Accuracy:95.127%\n",
      "Epoch : 3 [32000/60000 (53%)]\tLoss: 0.435719\t Accuracy:95.042%\n",
      "Epoch : 3 [33600/60000 (56%)]\tLoss: 0.038899\t Accuracy:95.008%\n",
      "Epoch : 3 [35200/60000 (59%)]\tLoss: 0.157955\t Accuracy:95.084%\n",
      "Epoch : 3 [36800/60000 (61%)]\tLoss: 0.065332\t Accuracy:95.127%\n",
      "Epoch : 3 [38400/60000 (64%)]\tLoss: 0.087521\t Accuracy:95.145%\n",
      "Epoch : 3 [40000/60000 (67%)]\tLoss: 0.119639\t Accuracy:95.131%\n",
      "Epoch : 3 [41600/60000 (69%)]\tLoss: 0.089203\t Accuracy:95.143%\n",
      "Epoch : 3 [43200/60000 (72%)]\tLoss: 0.412446\t Accuracy:95.152%\n",
      "Epoch : 3 [44800/60000 (75%)]\tLoss: 0.103714\t Accuracy:95.211%\n",
      "Epoch : 3 [46400/60000 (77%)]\tLoss: 0.355738\t Accuracy:95.202%\n",
      "Epoch : 3 [48000/60000 (80%)]\tLoss: 0.139295\t Accuracy:95.191%\n",
      "Epoch : 3 [49600/60000 (83%)]\tLoss: 0.194295\t Accuracy:95.189%\n",
      "Epoch : 3 [51200/60000 (85%)]\tLoss: 0.083338\t Accuracy:95.181%\n",
      "Epoch : 3 [52800/60000 (88%)]\tLoss: 0.779976\t Accuracy:95.192%\n",
      "Epoch : 3 [54400/60000 (91%)]\tLoss: 0.033422\t Accuracy:95.196%\n",
      "Epoch : 3 [56000/60000 (93%)]\tLoss: 0.117889\t Accuracy:95.208%\n",
      "Epoch : 3 [57600/60000 (96%)]\tLoss: 0.146757\t Accuracy:95.232%\n",
      "Epoch : 3 [59200/60000 (99%)]\tLoss: 0.007108\t Accuracy:95.286%\n",
      "Epoch : 4 [0/60000 (0%)]\tLoss: 0.037586\t Accuracy:96.875%\n",
      "Epoch : 4 [1600/60000 (3%)]\tLoss: 0.532983\t Accuracy:95.282%\n",
      "Epoch : 4 [3200/60000 (5%)]\tLoss: 0.141879\t Accuracy:95.575%\n",
      "Epoch : 4 [4800/60000 (8%)]\tLoss: 0.068667\t Accuracy:95.882%\n",
      "Epoch : 4 [6400/60000 (11%)]\tLoss: 0.088112\t Accuracy:95.740%\n",
      "Epoch : 4 [8000/60000 (13%)]\tLoss: 0.112370\t Accuracy:95.754%\n",
      "Epoch : 4 [9600/60000 (16%)]\tLoss: 0.098440\t Accuracy:95.650%\n",
      "Epoch : 4 [11200/60000 (19%)]\tLoss: 0.284854\t Accuracy:95.593%\n",
      "Epoch : 4 [12800/60000 (21%)]\tLoss: 0.082128\t Accuracy:95.605%\n",
      "Epoch : 4 [14400/60000 (24%)]\tLoss: 0.066085\t Accuracy:95.468%\n",
      "Epoch : 4 [16000/60000 (27%)]\tLoss: 0.137398\t Accuracy:95.422%\n",
      "Epoch : 4 [17600/60000 (29%)]\tLoss: 0.083179\t Accuracy:95.389%\n",
      "Epoch : 4 [19200/60000 (32%)]\tLoss: 0.296649\t Accuracy:95.372%\n",
      "Epoch : 4 [20800/60000 (35%)]\tLoss: 0.079538\t Accuracy:95.387%\n",
      "Epoch : 4 [22400/60000 (37%)]\tLoss: 0.021219\t Accuracy:95.399%\n",
      "Epoch : 4 [24000/60000 (40%)]\tLoss: 0.045635\t Accuracy:95.460%\n",
      "Epoch : 4 [25600/60000 (43%)]\tLoss: 0.025185\t Accuracy:95.431%\n",
      "Epoch : 4 [27200/60000 (45%)]\tLoss: 0.313549\t Accuracy:95.384%\n",
      "Epoch : 4 [28800/60000 (48%)]\tLoss: 0.358900\t Accuracy:95.384%\n",
      "Epoch : 4 [30400/60000 (51%)]\tLoss: 0.290802\t Accuracy:95.354%\n",
      "Epoch : 4 [32000/60000 (53%)]\tLoss: 0.031017\t Accuracy:95.367%\n",
      "Epoch : 4 [33600/60000 (56%)]\tLoss: 0.085758\t Accuracy:95.362%\n",
      "Epoch : 4 [35200/60000 (59%)]\tLoss: 0.152539\t Accuracy:95.416%\n",
      "Epoch : 4 [36800/60000 (61%)]\tLoss: 0.162986\t Accuracy:95.441%\n",
      "Epoch : 4 [38400/60000 (64%)]\tLoss: 0.174990\t Accuracy:95.444%\n",
      "Epoch : 4 [40000/60000 (67%)]\tLoss: 0.521610\t Accuracy:95.456%\n",
      "Epoch : 4 [41600/60000 (69%)]\tLoss: 0.122210\t Accuracy:95.484%\n",
      "Epoch : 4 [43200/60000 (72%)]\tLoss: 0.318961\t Accuracy:95.503%\n",
      "Epoch : 4 [44800/60000 (75%)]\tLoss: 0.035795\t Accuracy:95.550%\n",
      "Epoch : 4 [46400/60000 (77%)]\tLoss: 0.384703\t Accuracy:95.535%\n",
      "Epoch : 4 [48000/60000 (80%)]\tLoss: 0.491851\t Accuracy:95.561%\n",
      "Epoch : 4 [49600/60000 (83%)]\tLoss: 0.055732\t Accuracy:95.561%\n",
      "Epoch : 4 [51200/60000 (85%)]\tLoss: 0.087599\t Accuracy:95.583%\n",
      "Epoch : 4 [52800/60000 (88%)]\tLoss: 0.285666\t Accuracy:95.597%\n",
      "Epoch : 4 [54400/60000 (91%)]\tLoss: 0.043655\t Accuracy:95.602%\n",
      "Epoch : 4 [56000/60000 (93%)]\tLoss: 0.363469\t Accuracy:95.604%\n",
      "Epoch : 4 [57600/60000 (96%)]\tLoss: 0.103343\t Accuracy:95.624%\n",
      "Epoch : 4 [59200/60000 (99%)]\tLoss: 0.018067\t Accuracy:95.676%\n"
     ]
    }
   ],
   "source": [
    "\n",
    "\n",
    "fit(cnn,train_loader)\n",
    "\n"
   ]
  },
  {
   "cell_type": "markdown",
   "metadata": {
    "colab_type": "text",
    "id": "G7xr3kuT1vq1"
   },
   "source": [
    "## SVM Classifer for MNIST DATA SET"
   ]
  },
  {
   "cell_type": "code",
   "execution_count": 0,
   "metadata": {
    "colab": {},
    "colab_type": "code",
    "id": "FPBEZqUcEeD0"
   },
   "outputs": [],
   "source": [
    "from keras.datasets import mnist\n",
    "(x_train, y_train), (x_test, y_test) = mnist.load_data()"
   ]
  },
  {
   "cell_type": "code",
   "execution_count": 0,
   "metadata": {
    "colab": {},
    "colab_type": "code",
    "id": "-WaRliMWFhRQ"
   },
   "outputs": [],
   "source": [
    "x_train = x_train.reshape(60000,784)\n",
    "x_test = x_test.reshape(10000,784)"
   ]
  },
  {
   "cell_type": "code",
   "execution_count": 0,
   "metadata": {
    "colab": {},
    "colab_type": "code",
    "id": "PKTWO9aDGpPm"
   },
   "outputs": [],
   "source": [
    "## Applying HOG feature extraction"
   ]
  },
  {
   "cell_type": "code",
   "execution_count": 0,
   "metadata": {
    "colab": {},
    "colab_type": "code",
    "id": "3RCdlEEKHHnI"
   },
   "outputs": [],
   "source": [
    "from sklearn.svm import SVC\n",
    "from sklearn.metrics import accuracy_score\n",
    "from skimage.feature import hog\n",
    "from sklearn import preprocessing\n",
    "from collections import Counter"
   ]
  },
  {
   "cell_type": "code",
   "execution_count": 38,
   "metadata": {
    "colab": {
     "base_uri": "https://localhost:8080/",
     "height": 34
    },
    "colab_type": "code",
    "id": "xMLoyTMaIJ7o",
    "outputId": "e05268e4-64d4-4178-97ef-9b08cdf2b55a"
   },
   "outputs": [
    {
     "name": "stdout",
     "output_type": "stream",
     "text": [
      "(60000, 160)\n"
     ]
    }
   ],
   "source": [
    "list_hog_train = []\n",
    "for feature in x_train:\n",
    "    fd = hog(feature.reshape((28,28)), orientations=10, pixels_per_cell=(7,7),cells_per_block=(1,1),visualize=False )\n",
    "    list_hog_train.append(fd)\n",
    "hog_features = np.array(list_hog_train, 'float64')\n",
    "preProcess = preprocessing.MaxAbsScaler().fit(hog_features)\n",
    "hog_features_transformed_train = preProcess.transform(hog_features)\n",
    "print(hog_features_transformed_train.shape)"
   ]
  },
  {
   "cell_type": "code",
   "execution_count": 0,
   "metadata": {
    "colab": {},
    "colab_type": "code",
    "id": "sk6IjKssIMwP"
   },
   "outputs": [],
   "source": [
    "## Extracting hog feature for test data"
   ]
  },
  {
   "cell_type": "code",
   "execution_count": 41,
   "metadata": {
    "colab": {
     "base_uri": "https://localhost:8080/",
     "height": 34
    },
    "colab_type": "code",
    "id": "Bimvp1P50mrd",
    "outputId": "79c63765-36e7-486b-aa12-3f1ca5d36314"
   },
   "outputs": [
    {
     "name": "stdout",
     "output_type": "stream",
     "text": [
      "(10000, 160)\n"
     ]
    }
   ],
   "source": [
    "list_hog_test = []\n",
    "for feature in x_test:\n",
    "    fd = hog(feature.reshape((28,28)), orientations=10, pixels_per_cell=(7,7),cells_per_block=(1,1),visualize=False )\n",
    "    list_hog_test.append(fd)\n",
    "hog_features_test = np.array(list_hog_test, 'float64')\n",
    "preProcess = preprocessing.MaxAbsScaler().fit(hog_features_test)\n",
    "hog_features_transformed_test = preProcess.transform(hog_features_test)\n",
    "print(hog_features_transformed_test.shape)"
   ]
  },
  {
   "cell_type": "code",
   "execution_count": 0,
   "metadata": {
    "colab": {},
    "colab_type": "code",
    "id": "yp2wlErxIVLO"
   },
   "outputs": [],
   "source": [
    "model = SVC()\n",
    "model.fit(hog_features_transformed_train,y_train)\n",
    "y_pred = model.predict(hog_features_transformed_test)"
   ]
  },
  {
   "cell_type": "markdown",
   "metadata": {
    "colab_type": "text",
    "id": "AEK_mlQDIZ30"
   },
   "source": [
    "Fitting the model with best parameters"
   ]
  },
  {
   "cell_type": "code",
   "execution_count": 43,
   "metadata": {
    "colab": {
     "base_uri": "https://localhost:8080/",
     "height": 34
    },
    "colab_type": "code",
    "id": "MSJ3Vb2QIV_A",
    "outputId": "6aee61d2-ca84-4934-de3f-761ab40d67b5"
   },
   "outputs": [
    {
     "name": "stdout",
     "output_type": "stream",
     "text": [
      "0.9713\n"
     ]
    }
   ],
   "source": [
    "print(accuracy_score(y_test, y_pred))"
   ]
  }
 ],
 "metadata": {
  "colab": {
   "collapsed_sections": [],
   "name": "q3.ipynb",
   "provenance": []
  },
  "kernelspec": {
   "display_name": "Python 3",
   "language": "python",
   "name": "python3"
  },
  "language_info": {
   "codemirror_mode": {
    "name": "ipython",
    "version": 3
   },
   "file_extension": ".py",
   "mimetype": "text/x-python",
   "name": "python",
   "nbconvert_exporter": "python",
   "pygments_lexer": "ipython3",
   "version": "3.7.4"
  },
  "widgets": {
   "application/vnd.jupyter.widget-state+json": {
    "07a0ab50d9394cc5be2e8331bcc3e74c": {
     "model_module": "@jupyter-widgets/base",
     "model_name": "LayoutModel",
     "state": {
      "_model_module": "@jupyter-widgets/base",
      "_model_module_version": "1.2.0",
      "_model_name": "LayoutModel",
      "_view_count": null,
      "_view_module": "@jupyter-widgets/base",
      "_view_module_version": "1.2.0",
      "_view_name": "LayoutView",
      "align_content": null,
      "align_items": null,
      "align_self": null,
      "border": null,
      "bottom": null,
      "display": null,
      "flex": null,
      "flex_flow": null,
      "grid_area": null,
      "grid_auto_columns": null,
      "grid_auto_flow": null,
      "grid_auto_rows": null,
      "grid_column": null,
      "grid_gap": null,
      "grid_row": null,
      "grid_template_areas": null,
      "grid_template_columns": null,
      "grid_template_rows": null,
      "height": null,
      "justify_content": null,
      "justify_items": null,
      "left": null,
      "margin": null,
      "max_height": null,
      "max_width": null,
      "min_height": null,
      "min_width": null,
      "object_fit": null,
      "object_position": null,
      "order": null,
      "overflow": null,
      "overflow_x": null,
      "overflow_y": null,
      "padding": null,
      "right": null,
      "top": null,
      "visibility": null,
      "width": null
     }
    },
    "138d8f0765694040a5fe9e510e4cfbe2": {
     "model_module": "@jupyter-widgets/controls",
     "model_name": "IntProgressModel",
     "state": {
      "_dom_classes": [],
      "_model_module": "@jupyter-widgets/controls",
      "_model_module_version": "1.5.0",
      "_model_name": "IntProgressModel",
      "_view_count": null,
      "_view_module": "@jupyter-widgets/controls",
      "_view_module_version": "1.5.0",
      "_view_name": "ProgressView",
      "bar_style": "success",
      "description": "",
      "description_tooltip": null,
      "layout": "IPY_MODEL_7ab0a5f4f60e4668bd9639159d7fccc5",
      "max": 1,
      "min": 0,
      "orientation": "horizontal",
      "style": "IPY_MODEL_2acc57d5909347b890137bbcb278422f",
      "value": 1
     }
    },
    "2acc57d5909347b890137bbcb278422f": {
     "model_module": "@jupyter-widgets/controls",
     "model_name": "ProgressStyleModel",
     "state": {
      "_model_module": "@jupyter-widgets/controls",
      "_model_module_version": "1.5.0",
      "_model_name": "ProgressStyleModel",
      "_view_count": null,
      "_view_module": "@jupyter-widgets/base",
      "_view_module_version": "1.2.0",
      "_view_name": "StyleView",
      "bar_color": null,
      "description_width": "initial"
     }
    },
    "31654deb8af64ce586a2502be9b61d5a": {
     "model_module": "@jupyter-widgets/controls",
     "model_name": "DescriptionStyleModel",
     "state": {
      "_model_module": "@jupyter-widgets/controls",
      "_model_module_version": "1.5.0",
      "_model_name": "DescriptionStyleModel",
      "_view_count": null,
      "_view_module": "@jupyter-widgets/base",
      "_view_module_version": "1.2.0",
      "_view_name": "StyleView",
      "description_width": ""
     }
    },
    "31a685af2a8145569b8570d42ccf03f0": {
     "model_module": "@jupyter-widgets/base",
     "model_name": "LayoutModel",
     "state": {
      "_model_module": "@jupyter-widgets/base",
      "_model_module_version": "1.2.0",
      "_model_name": "LayoutModel",
      "_view_count": null,
      "_view_module": "@jupyter-widgets/base",
      "_view_module_version": "1.2.0",
      "_view_name": "LayoutView",
      "align_content": null,
      "align_items": null,
      "align_self": null,
      "border": null,
      "bottom": null,
      "display": null,
      "flex": null,
      "flex_flow": null,
      "grid_area": null,
      "grid_auto_columns": null,
      "grid_auto_flow": null,
      "grid_auto_rows": null,
      "grid_column": null,
      "grid_gap": null,
      "grid_row": null,
      "grid_template_areas": null,
      "grid_template_columns": null,
      "grid_template_rows": null,
      "height": null,
      "justify_content": null,
      "justify_items": null,
      "left": null,
      "margin": null,
      "max_height": null,
      "max_width": null,
      "min_height": null,
      "min_width": null,
      "object_fit": null,
      "object_position": null,
      "order": null,
      "overflow": null,
      "overflow_x": null,
      "overflow_y": null,
      "padding": null,
      "right": null,
      "top": null,
      "visibility": null,
      "width": null
     }
    },
    "3eeca7e9727f4ddca9c5804d4da1ace1": {
     "model_module": "@jupyter-widgets/controls",
     "model_name": "HTMLModel",
     "state": {
      "_dom_classes": [],
      "_model_module": "@jupyter-widgets/controls",
      "_model_module_version": "1.5.0",
      "_model_name": "HTMLModel",
      "_view_count": null,
      "_view_module": "@jupyter-widgets/controls",
      "_view_module_version": "1.5.0",
      "_view_name": "HTMLView",
      "description": "",
      "description_tooltip": null,
      "layout": "IPY_MODEL_d5aee75924e848c1a9ef8b2efdc34208",
      "placeholder": "​",
      "style": "IPY_MODEL_f2721dd580ce4644aed9ecd968d3f79b",
      "value": " 1654784/? [00:06&lt;00:00, 259931.01it/s]"
     }
    },
    "48e7d1f7729e4f58be8c93bdf35fffb7": {
     "model_module": "@jupyter-widgets/controls",
     "model_name": "HBoxModel",
     "state": {
      "_dom_classes": [],
      "_model_module": "@jupyter-widgets/controls",
      "_model_module_version": "1.5.0",
      "_model_name": "HBoxModel",
      "_view_count": null,
      "_view_module": "@jupyter-widgets/controls",
      "_view_module_version": "1.5.0",
      "_view_name": "HBoxView",
      "box_style": "",
      "children": [
       "IPY_MODEL_7a0167105d644ee09dc9ff96f8a8d74f",
       "IPY_MODEL_3eeca7e9727f4ddca9c5804d4da1ace1"
      ],
      "layout": "IPY_MODEL_bf3298389f2e40a4be882b6548e14c31"
     }
    },
    "4f9f7241fb0944198aa4b5f9a4d25edf": {
     "model_module": "@jupyter-widgets/base",
     "model_name": "LayoutModel",
     "state": {
      "_model_module": "@jupyter-widgets/base",
      "_model_module_version": "1.2.0",
      "_model_name": "LayoutModel",
      "_view_count": null,
      "_view_module": "@jupyter-widgets/base",
      "_view_module_version": "1.2.0",
      "_view_name": "LayoutView",
      "align_content": null,
      "align_items": null,
      "align_self": null,
      "border": null,
      "bottom": null,
      "display": null,
      "flex": null,
      "flex_flow": null,
      "grid_area": null,
      "grid_auto_columns": null,
      "grid_auto_flow": null,
      "grid_auto_rows": null,
      "grid_column": null,
      "grid_gap": null,
      "grid_row": null,
      "grid_template_areas": null,
      "grid_template_columns": null,
      "grid_template_rows": null,
      "height": null,
      "justify_content": null,
      "justify_items": null,
      "left": null,
      "margin": null,
      "max_height": null,
      "max_width": null,
      "min_height": null,
      "min_width": null,
      "object_fit": null,
      "object_position": null,
      "order": null,
      "overflow": null,
      "overflow_x": null,
      "overflow_y": null,
      "padding": null,
      "right": null,
      "top": null,
      "visibility": null,
      "width": null
     }
    },
    "5408c63c9d0c4836944e5f6ca552426b": {
     "model_module": "@jupyter-widgets/base",
     "model_name": "LayoutModel",
     "state": {
      "_model_module": "@jupyter-widgets/base",
      "_model_module_version": "1.2.0",
      "_model_name": "LayoutModel",
      "_view_count": null,
      "_view_module": "@jupyter-widgets/base",
      "_view_module_version": "1.2.0",
      "_view_name": "LayoutView",
      "align_content": null,
      "align_items": null,
      "align_self": null,
      "border": null,
      "bottom": null,
      "display": null,
      "flex": null,
      "flex_flow": null,
      "grid_area": null,
      "grid_auto_columns": null,
      "grid_auto_flow": null,
      "grid_auto_rows": null,
      "grid_column": null,
      "grid_gap": null,
      "grid_row": null,
      "grid_template_areas": null,
      "grid_template_columns": null,
      "grid_template_rows": null,
      "height": null,
      "justify_content": null,
      "justify_items": null,
      "left": null,
      "margin": null,
      "max_height": null,
      "max_width": null,
      "min_height": null,
      "min_width": null,
      "object_fit": null,
      "object_position": null,
      "order": null,
      "overflow": null,
      "overflow_x": null,
      "overflow_y": null,
      "padding": null,
      "right": null,
      "top": null,
      "visibility": null,
      "width": null
     }
    },
    "5812488ad0fa4467a0e6c8f62cec1702": {
     "model_module": "@jupyter-widgets/base",
     "model_name": "LayoutModel",
     "state": {
      "_model_module": "@jupyter-widgets/base",
      "_model_module_version": "1.2.0",
      "_model_name": "LayoutModel",
      "_view_count": null,
      "_view_module": "@jupyter-widgets/base",
      "_view_module_version": "1.2.0",
      "_view_name": "LayoutView",
      "align_content": null,
      "align_items": null,
      "align_self": null,
      "border": null,
      "bottom": null,
      "display": null,
      "flex": null,
      "flex_flow": null,
      "grid_area": null,
      "grid_auto_columns": null,
      "grid_auto_flow": null,
      "grid_auto_rows": null,
      "grid_column": null,
      "grid_gap": null,
      "grid_row": null,
      "grid_template_areas": null,
      "grid_template_columns": null,
      "grid_template_rows": null,
      "height": null,
      "justify_content": null,
      "justify_items": null,
      "left": null,
      "margin": null,
      "max_height": null,
      "max_width": null,
      "min_height": null,
      "min_width": null,
      "object_fit": null,
      "object_position": null,
      "order": null,
      "overflow": null,
      "overflow_x": null,
      "overflow_y": null,
      "padding": null,
      "right": null,
      "top": null,
      "visibility": null,
      "width": null
     }
    },
    "5c13e8b45f2f480ea4d9e83ffa89fc1a": {
     "model_module": "@jupyter-widgets/controls",
     "model_name": "ProgressStyleModel",
     "state": {
      "_model_module": "@jupyter-widgets/controls",
      "_model_module_version": "1.5.0",
      "_model_name": "ProgressStyleModel",
      "_view_count": null,
      "_view_module": "@jupyter-widgets/base",
      "_view_module_version": "1.2.0",
      "_view_name": "StyleView",
      "bar_color": null,
      "description_width": "initial"
     }
    },
    "62e8a98cb3084800aa3f754651934c07": {
     "model_module": "@jupyter-widgets/controls",
     "model_name": "HBoxModel",
     "state": {
      "_dom_classes": [],
      "_model_module": "@jupyter-widgets/controls",
      "_model_module_version": "1.5.0",
      "_model_name": "HBoxModel",
      "_view_count": null,
      "_view_module": "@jupyter-widgets/controls",
      "_view_module_version": "1.5.0",
      "_view_name": "HBoxView",
      "box_style": "",
      "children": [
       "IPY_MODEL_67100a0790144fc89e510799c56f1c90",
       "IPY_MODEL_834aba56e96f41f29e5b77f736c4a98a"
      ],
      "layout": "IPY_MODEL_5812488ad0fa4467a0e6c8f62cec1702"
     }
    },
    "67100a0790144fc89e510799c56f1c90": {
     "model_module": "@jupyter-widgets/controls",
     "model_name": "IntProgressModel",
     "state": {
      "_dom_classes": [],
      "_model_module": "@jupyter-widgets/controls",
      "_model_module_version": "1.5.0",
      "_model_name": "IntProgressModel",
      "_view_count": null,
      "_view_module": "@jupyter-widgets/controls",
      "_view_module_version": "1.5.0",
      "_view_name": "ProgressView",
      "bar_style": "success",
      "description": "",
      "description_tooltip": null,
      "layout": "IPY_MODEL_f804cefa327f4e8eb43861c0d1919587",
      "max": 1,
      "min": 0,
      "orientation": "horizontal",
      "style": "IPY_MODEL_5c13e8b45f2f480ea4d9e83ffa89fc1a",
      "value": 1
     }
    },
    "6b325c84c7044b6190d6d8f7afac8f27": {
     "model_module": "@jupyter-widgets/controls",
     "model_name": "HBoxModel",
     "state": {
      "_dom_classes": [],
      "_model_module": "@jupyter-widgets/controls",
      "_model_module_version": "1.5.0",
      "_model_name": "HBoxModel",
      "_view_count": null,
      "_view_module": "@jupyter-widgets/controls",
      "_view_module_version": "1.5.0",
      "_view_name": "HBoxView",
      "box_style": "",
      "children": [
       "IPY_MODEL_138d8f0765694040a5fe9e510e4cfbe2",
       "IPY_MODEL_c011a8df8aac414b8b669cd1048ea6f0"
      ],
      "layout": "IPY_MODEL_5408c63c9d0c4836944e5f6ca552426b"
     }
    },
    "719a0928845a46e3a859bbf77266e43f": {
     "model_module": "@jupyter-widgets/controls",
     "model_name": "ProgressStyleModel",
     "state": {
      "_model_module": "@jupyter-widgets/controls",
      "_model_module_version": "1.5.0",
      "_model_name": "ProgressStyleModel",
      "_view_count": null,
      "_view_module": "@jupyter-widgets/base",
      "_view_module_version": "1.2.0",
      "_view_name": "StyleView",
      "bar_color": null,
      "description_width": "initial"
     }
    },
    "7a0167105d644ee09dc9ff96f8a8d74f": {
     "model_module": "@jupyter-widgets/controls",
     "model_name": "IntProgressModel",
     "state": {
      "_dom_classes": [],
      "_model_module": "@jupyter-widgets/controls",
      "_model_module_version": "1.5.0",
      "_model_name": "IntProgressModel",
      "_view_count": null,
      "_view_module": "@jupyter-widgets/controls",
      "_view_module_version": "1.5.0",
      "_view_name": "ProgressView",
      "bar_style": "success",
      "description": "",
      "description_tooltip": null,
      "layout": "IPY_MODEL_ab5792c5024f475ab14e76f810d12bb6",
      "max": 1,
      "min": 0,
      "orientation": "horizontal",
      "style": "IPY_MODEL_719a0928845a46e3a859bbf77266e43f",
      "value": 1
     }
    },
    "7ab0a5f4f60e4668bd9639159d7fccc5": {
     "model_module": "@jupyter-widgets/base",
     "model_name": "LayoutModel",
     "state": {
      "_model_module": "@jupyter-widgets/base",
      "_model_module_version": "1.2.0",
      "_model_name": "LayoutModel",
      "_view_count": null,
      "_view_module": "@jupyter-widgets/base",
      "_view_module_version": "1.2.0",
      "_view_name": "LayoutView",
      "align_content": null,
      "align_items": null,
      "align_self": null,
      "border": null,
      "bottom": null,
      "display": null,
      "flex": null,
      "flex_flow": null,
      "grid_area": null,
      "grid_auto_columns": null,
      "grid_auto_flow": null,
      "grid_auto_rows": null,
      "grid_column": null,
      "grid_gap": null,
      "grid_row": null,
      "grid_template_areas": null,
      "grid_template_columns": null,
      "grid_template_rows": null,
      "height": null,
      "justify_content": null,
      "justify_items": null,
      "left": null,
      "margin": null,
      "max_height": null,
      "max_width": null,
      "min_height": null,
      "min_width": null,
      "object_fit": null,
      "object_position": null,
      "order": null,
      "overflow": null,
      "overflow_x": null,
      "overflow_y": null,
      "padding": null,
      "right": null,
      "top": null,
      "visibility": null,
      "width": null
     }
    },
    "834aba56e96f41f29e5b77f736c4a98a": {
     "model_module": "@jupyter-widgets/controls",
     "model_name": "HTMLModel",
     "state": {
      "_dom_classes": [],
      "_model_module": "@jupyter-widgets/controls",
      "_model_module_version": "1.5.0",
      "_model_name": "HTMLModel",
      "_view_count": null,
      "_view_module": "@jupyter-widgets/controls",
      "_view_module_version": "1.5.0",
      "_view_name": "HTMLView",
      "description": "",
      "description_tooltip": null,
      "layout": "IPY_MODEL_dd91190b4cdf47609e509c1102ebf95e",
      "placeholder": "​",
      "style": "IPY_MODEL_31654deb8af64ce586a2502be9b61d5a",
      "value": " 8192/? [00:05&lt;00:00, 1367.21it/s]"
     }
    },
    "8c3603984e9a41339766c2d6ca8a7f33": {
     "model_module": "@jupyter-widgets/controls",
     "model_name": "DescriptionStyleModel",
     "state": {
      "_model_module": "@jupyter-widgets/controls",
      "_model_module_version": "1.5.0",
      "_model_name": "DescriptionStyleModel",
      "_view_count": null,
      "_view_module": "@jupyter-widgets/base",
      "_view_module_version": "1.2.0",
      "_view_name": "StyleView",
      "description_width": ""
     }
    },
    "91c7c5e0d30f440b923b30af3f75c2c6": {
     "model_module": "@jupyter-widgets/base",
     "model_name": "LayoutModel",
     "state": {
      "_model_module": "@jupyter-widgets/base",
      "_model_module_version": "1.2.0",
      "_model_name": "LayoutModel",
      "_view_count": null,
      "_view_module": "@jupyter-widgets/base",
      "_view_module_version": "1.2.0",
      "_view_name": "LayoutView",
      "align_content": null,
      "align_items": null,
      "align_self": null,
      "border": null,
      "bottom": null,
      "display": null,
      "flex": null,
      "flex_flow": null,
      "grid_area": null,
      "grid_auto_columns": null,
      "grid_auto_flow": null,
      "grid_auto_rows": null,
      "grid_column": null,
      "grid_gap": null,
      "grid_row": null,
      "grid_template_areas": null,
      "grid_template_columns": null,
      "grid_template_rows": null,
      "height": null,
      "justify_content": null,
      "justify_items": null,
      "left": null,
      "margin": null,
      "max_height": null,
      "max_width": null,
      "min_height": null,
      "min_width": null,
      "object_fit": null,
      "object_position": null,
      "order": null,
      "overflow": null,
      "overflow_x": null,
      "overflow_y": null,
      "padding": null,
      "right": null,
      "top": null,
      "visibility": null,
      "width": null
     }
    },
    "9216827099b84ec0a6a1e3213d1240e7": {
     "model_module": "@jupyter-widgets/controls",
     "model_name": "ProgressStyleModel",
     "state": {
      "_model_module": "@jupyter-widgets/controls",
      "_model_module_version": "1.5.0",
      "_model_name": "ProgressStyleModel",
      "_view_count": null,
      "_view_module": "@jupyter-widgets/base",
      "_view_module_version": "1.2.0",
      "_view_name": "StyleView",
      "bar_color": null,
      "description_width": "initial"
     }
    },
    "a931eabab18944e798a3c476128cc558": {
     "model_module": "@jupyter-widgets/controls",
     "model_name": "HBoxModel",
     "state": {
      "_dom_classes": [],
      "_model_module": "@jupyter-widgets/controls",
      "_model_module_version": "1.5.0",
      "_model_name": "HBoxModel",
      "_view_count": null,
      "_view_module": "@jupyter-widgets/controls",
      "_view_module_version": "1.5.0",
      "_view_name": "HBoxView",
      "box_style": "",
      "children": [
       "IPY_MODEL_e99ff81a81014a87a5b124692b1962da",
       "IPY_MODEL_d3c034cfc30849a0b882528658c3e5d8"
      ],
      "layout": "IPY_MODEL_4f9f7241fb0944198aa4b5f9a4d25edf"
     }
    },
    "ab5792c5024f475ab14e76f810d12bb6": {
     "model_module": "@jupyter-widgets/base",
     "model_name": "LayoutModel",
     "state": {
      "_model_module": "@jupyter-widgets/base",
      "_model_module_version": "1.2.0",
      "_model_name": "LayoutModel",
      "_view_count": null,
      "_view_module": "@jupyter-widgets/base",
      "_view_module_version": "1.2.0",
      "_view_name": "LayoutView",
      "align_content": null,
      "align_items": null,
      "align_self": null,
      "border": null,
      "bottom": null,
      "display": null,
      "flex": null,
      "flex_flow": null,
      "grid_area": null,
      "grid_auto_columns": null,
      "grid_auto_flow": null,
      "grid_auto_rows": null,
      "grid_column": null,
      "grid_gap": null,
      "grid_row": null,
      "grid_template_areas": null,
      "grid_template_columns": null,
      "grid_template_rows": null,
      "height": null,
      "justify_content": null,
      "justify_items": null,
      "left": null,
      "margin": null,
      "max_height": null,
      "max_width": null,
      "min_height": null,
      "min_width": null,
      "object_fit": null,
      "object_position": null,
      "order": null,
      "overflow": null,
      "overflow_x": null,
      "overflow_y": null,
      "padding": null,
      "right": null,
      "top": null,
      "visibility": null,
      "width": null
     }
    },
    "bf3298389f2e40a4be882b6548e14c31": {
     "model_module": "@jupyter-widgets/base",
     "model_name": "LayoutModel",
     "state": {
      "_model_module": "@jupyter-widgets/base",
      "_model_module_version": "1.2.0",
      "_model_name": "LayoutModel",
      "_view_count": null,
      "_view_module": "@jupyter-widgets/base",
      "_view_module_version": "1.2.0",
      "_view_name": "LayoutView",
      "align_content": null,
      "align_items": null,
      "align_self": null,
      "border": null,
      "bottom": null,
      "display": null,
      "flex": null,
      "flex_flow": null,
      "grid_area": null,
      "grid_auto_columns": null,
      "grid_auto_flow": null,
      "grid_auto_rows": null,
      "grid_column": null,
      "grid_gap": null,
      "grid_row": null,
      "grid_template_areas": null,
      "grid_template_columns": null,
      "grid_template_rows": null,
      "height": null,
      "justify_content": null,
      "justify_items": null,
      "left": null,
      "margin": null,
      "max_height": null,
      "max_width": null,
      "min_height": null,
      "min_width": null,
      "object_fit": null,
      "object_position": null,
      "order": null,
      "overflow": null,
      "overflow_x": null,
      "overflow_y": null,
      "padding": null,
      "right": null,
      "top": null,
      "visibility": null,
      "width": null
     }
    },
    "c011a8df8aac414b8b669cd1048ea6f0": {
     "model_module": "@jupyter-widgets/controls",
     "model_name": "HTMLModel",
     "state": {
      "_dom_classes": [],
      "_model_module": "@jupyter-widgets/controls",
      "_model_module_version": "1.5.0",
      "_model_name": "HTMLModel",
      "_view_count": null,
      "_view_module": "@jupyter-widgets/controls",
      "_view_module_version": "1.5.0",
      "_view_name": "HTMLView",
      "description": "",
      "description_tooltip": null,
      "layout": "IPY_MODEL_91c7c5e0d30f440b923b30af3f75c2c6",
      "placeholder": "​",
      "style": "IPY_MODEL_d08fbc1bc5f74bc799cd6f01474ce7ad",
      "value": " 32768/? [00:06&lt;00:00, 5029.30it/s]"
     }
    },
    "d08fbc1bc5f74bc799cd6f01474ce7ad": {
     "model_module": "@jupyter-widgets/controls",
     "model_name": "DescriptionStyleModel",
     "state": {
      "_model_module": "@jupyter-widgets/controls",
      "_model_module_version": "1.5.0",
      "_model_name": "DescriptionStyleModel",
      "_view_count": null,
      "_view_module": "@jupyter-widgets/base",
      "_view_module_version": "1.2.0",
      "_view_name": "StyleView",
      "description_width": ""
     }
    },
    "d3c034cfc30849a0b882528658c3e5d8": {
     "model_module": "@jupyter-widgets/controls",
     "model_name": "HTMLModel",
     "state": {
      "_dom_classes": [],
      "_model_module": "@jupyter-widgets/controls",
      "_model_module_version": "1.5.0",
      "_model_name": "HTMLModel",
      "_view_count": null,
      "_view_module": "@jupyter-widgets/controls",
      "_view_module_version": "1.5.0",
      "_view_name": "HTMLView",
      "description": "",
      "description_tooltip": null,
      "layout": "IPY_MODEL_31a685af2a8145569b8570d42ccf03f0",
      "placeholder": "​",
      "style": "IPY_MODEL_8c3603984e9a41339766c2d6ca8a7f33",
      "value": " 9920512/? [00:07&lt;00:00, 1344182.00it/s]"
     }
    },
    "d5aee75924e848c1a9ef8b2efdc34208": {
     "model_module": "@jupyter-widgets/base",
     "model_name": "LayoutModel",
     "state": {
      "_model_module": "@jupyter-widgets/base",
      "_model_module_version": "1.2.0",
      "_model_name": "LayoutModel",
      "_view_count": null,
      "_view_module": "@jupyter-widgets/base",
      "_view_module_version": "1.2.0",
      "_view_name": "LayoutView",
      "align_content": null,
      "align_items": null,
      "align_self": null,
      "border": null,
      "bottom": null,
      "display": null,
      "flex": null,
      "flex_flow": null,
      "grid_area": null,
      "grid_auto_columns": null,
      "grid_auto_flow": null,
      "grid_auto_rows": null,
      "grid_column": null,
      "grid_gap": null,
      "grid_row": null,
      "grid_template_areas": null,
      "grid_template_columns": null,
      "grid_template_rows": null,
      "height": null,
      "justify_content": null,
      "justify_items": null,
      "left": null,
      "margin": null,
      "max_height": null,
      "max_width": null,
      "min_height": null,
      "min_width": null,
      "object_fit": null,
      "object_position": null,
      "order": null,
      "overflow": null,
      "overflow_x": null,
      "overflow_y": null,
      "padding": null,
      "right": null,
      "top": null,
      "visibility": null,
      "width": null
     }
    },
    "dd91190b4cdf47609e509c1102ebf95e": {
     "model_module": "@jupyter-widgets/base",
     "model_name": "LayoutModel",
     "state": {
      "_model_module": "@jupyter-widgets/base",
      "_model_module_version": "1.2.0",
      "_model_name": "LayoutModel",
      "_view_count": null,
      "_view_module": "@jupyter-widgets/base",
      "_view_module_version": "1.2.0",
      "_view_name": "LayoutView",
      "align_content": null,
      "align_items": null,
      "align_self": null,
      "border": null,
      "bottom": null,
      "display": null,
      "flex": null,
      "flex_flow": null,
      "grid_area": null,
      "grid_auto_columns": null,
      "grid_auto_flow": null,
      "grid_auto_rows": null,
      "grid_column": null,
      "grid_gap": null,
      "grid_row": null,
      "grid_template_areas": null,
      "grid_template_columns": null,
      "grid_template_rows": null,
      "height": null,
      "justify_content": null,
      "justify_items": null,
      "left": null,
      "margin": null,
      "max_height": null,
      "max_width": null,
      "min_height": null,
      "min_width": null,
      "object_fit": null,
      "object_position": null,
      "order": null,
      "overflow": null,
      "overflow_x": null,
      "overflow_y": null,
      "padding": null,
      "right": null,
      "top": null,
      "visibility": null,
      "width": null
     }
    },
    "e99ff81a81014a87a5b124692b1962da": {
     "model_module": "@jupyter-widgets/controls",
     "model_name": "IntProgressModel",
     "state": {
      "_dom_classes": [],
      "_model_module": "@jupyter-widgets/controls",
      "_model_module_version": "1.5.0",
      "_model_name": "IntProgressModel",
      "_view_count": null,
      "_view_module": "@jupyter-widgets/controls",
      "_view_module_version": "1.5.0",
      "_view_name": "ProgressView",
      "bar_style": "success",
      "description": "",
      "description_tooltip": null,
      "layout": "IPY_MODEL_07a0ab50d9394cc5be2e8331bcc3e74c",
      "max": 1,
      "min": 0,
      "orientation": "horizontal",
      "style": "IPY_MODEL_9216827099b84ec0a6a1e3213d1240e7",
      "value": 1
     }
    },
    "f2721dd580ce4644aed9ecd968d3f79b": {
     "model_module": "@jupyter-widgets/controls",
     "model_name": "DescriptionStyleModel",
     "state": {
      "_model_module": "@jupyter-widgets/controls",
      "_model_module_version": "1.5.0",
      "_model_name": "DescriptionStyleModel",
      "_view_count": null,
      "_view_module": "@jupyter-widgets/base",
      "_view_module_version": "1.2.0",
      "_view_name": "StyleView",
      "description_width": ""
     }
    },
    "f804cefa327f4e8eb43861c0d1919587": {
     "model_module": "@jupyter-widgets/base",
     "model_name": "LayoutModel",
     "state": {
      "_model_module": "@jupyter-widgets/base",
      "_model_module_version": "1.2.0",
      "_model_name": "LayoutModel",
      "_view_count": null,
      "_view_module": "@jupyter-widgets/base",
      "_view_module_version": "1.2.0",
      "_view_name": "LayoutView",
      "align_content": null,
      "align_items": null,
      "align_self": null,
      "border": null,
      "bottom": null,
      "display": null,
      "flex": null,
      "flex_flow": null,
      "grid_area": null,
      "grid_auto_columns": null,
      "grid_auto_flow": null,
      "grid_auto_rows": null,
      "grid_column": null,
      "grid_gap": null,
      "grid_row": null,
      "grid_template_areas": null,
      "grid_template_columns": null,
      "grid_template_rows": null,
      "height": null,
      "justify_content": null,
      "justify_items": null,
      "left": null,
      "margin": null,
      "max_height": null,
      "max_width": null,
      "min_height": null,
      "min_width": null,
      "object_fit": null,
      "object_position": null,
      "order": null,
      "overflow": null,
      "overflow_x": null,
      "overflow_y": null,
      "padding": null,
      "right": null,
      "top": null,
      "visibility": null,
      "width": null
     }
    }
   }
  }
 },
 "nbformat": 4,
 "nbformat_minor": 1
}
