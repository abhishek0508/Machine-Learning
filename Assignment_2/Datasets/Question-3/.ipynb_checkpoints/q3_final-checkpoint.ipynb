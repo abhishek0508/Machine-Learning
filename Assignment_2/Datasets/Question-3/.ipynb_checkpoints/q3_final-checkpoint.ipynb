{
 "cells": [
  {
   "cell_type": "code",
   "execution_count": 248,
   "metadata": {},
   "outputs": [],
   "source": [
    "## Importing Libraries\n",
    "import numpy as np\n",
    "import pandas as pd\n",
    "import io\n",
    "from sklearn.metrics import accuracy_score,r2_score\n",
    "from sklearn.preprocessing import MinMaxScaler\n",
    "import matplotlib.pyplot as plt\n",
    "from sklearn.metrics import r2_score\n",
    "from sklearn import preprocessing"
   ]
  },
  {
   "cell_type": "code",
   "execution_count": 249,
   "metadata": {},
   "outputs": [],
   "source": [
    "url = '/home/abhishek/dev/Semester_2/SMAI/Assignments/Assignment_2/Datasets/Question-3/airfoil.csv'\n",
    "test_url = '/home/abhishek/dev/Semester_2/SMAI/Assignments/Assignment_2/Datasets/Question-3/test.csv'"
   ]
  },
  {
   "cell_type": "code",
   "execution_count": 250,
   "metadata": {},
   "outputs": [],
   "source": [
    "n_features = None"
   ]
  },
  {
   "cell_type": "code",
   "execution_count": 251,
   "metadata": {},
   "outputs": [],
   "source": [
    "def preprocessing(df):\n",
    "        scaler = MinMaxScaler()\n",
    "        scaler_object = scaler.fit(df)\n",
    "        df = scaler_object.transform(df)\n",
    "        X = df[:,:5]\n",
    "        y = df[:,5:6]\n",
    "        X = np.hstack((np.ones((len(y),1)),X))\n",
    "        # print(X.shape)\n",
    "        # print(y.shape)\n",
    "        return scaler_object,X,y"
   ]
  },
  {
   "cell_type": "code",
   "execution_count": 252,
   "metadata": {},
   "outputs": [],
   "source": [
    "def compute_cost(X, y, params):\n",
    "    n_samples = len(y)\n",
    "    h = X @ params\n",
    "    return (1/(2*n_samples))*np.sum((h-y)**2)"
   ]
  },
  {
   "cell_type": "code",
   "execution_count": 253,
   "metadata": {},
   "outputs": [],
   "source": [
    "def gradient_descent(X, y, params, learning_rate, n_iters):\n",
    "    n_samples = len(y)\n",
    "    J_history = np.zeros((n_iters,1))\n",
    "\n",
    "    for i in range(n_iters):\n",
    "        params = params - (learning_rate/n_samples) * X.T @ (X @ params - y) \n",
    "        J_history[i] = compute_cost(X, y, params)\n",
    "\n",
    "    return (J_history, params)"
   ]
  },
  {
   "cell_type": "code",
   "execution_count": 254,
   "metadata": {},
   "outputs": [],
   "source": [
    "def predict(url,scaler_object,optimal_params):\n",
    "    df = pd.read_csv(url)\n",
    "    X_test,y_test = preprocessing_test(df,scaler_object)\n",
    "#     print(optimal_params.shape)\n",
    "    predictions = []\n",
    "    predictions =  X_test @ optimal_params\n",
    "#     print(predictions.shape)\n",
    "    return y_test,predictions"
   ]
  },
  {
   "cell_type": "code",
   "execution_count": 255,
   "metadata": {},
   "outputs": [],
   "source": [
    "def train(url):\n",
    "    df = pd.read_csv(url)\n",
    "    scaler_object,X,y = preprocessing(df)\n",
    "    n_samples = len(y)\n",
    "    n_features = np.size(X,1)\n",
    "    ## Different Initial Values of params - \n",
    "    params_one = np.zeros((n_features,1))\n",
    "    params_two = np.ones((n_features,1))\n",
    "    params_three = np.empty([n_features,1])\n",
    "    params_three.fill(0.5)\n",
    "#     print(params_three)\n",
    "#     print(params_one)\n",
    "    \n",
    "    ## Trying Gradient Descent for Different Intial Values of Omega(W)\n",
    "    \n",
    "    n_iters = 3700\n",
    "    learning_rate = 0.02\n",
    "    \n",
    "    initial_cost_one = compute_cost(X, y, params_one)\n",
    "    print(\"Initial cost one is: \", initial_cost_one, \"\\n\")\n",
    "    (J_history_one, optimal_params_one) = gradient_descent(X, y, params_one, learning_rate, n_iters)\n",
    "    \n",
    "    initial_cost_two = compute_cost(X, y, params_two)\n",
    "    print(\"Initial cost two is: \", initial_cost_two, \"\\n\")\n",
    "    (J_history_two, optimal_params_two) = gradient_descent(X, y, params_two, learning_rate, n_iters)\n",
    "    \n",
    "    initial_cost_three = compute_cost(X, y, params_three)\n",
    "    print(\"Initial cost three is: \", initial_cost_three, \"\\n\")\n",
    "    (J_history_three, optimal_params_three) = gradient_descent(X, y, params_three, learning_rate, n_iters)\n",
    "    \n",
    "    \n",
    "    return scaler_object,J_history_one,J_history_two,J_history_three,optimal_params_one,optimal_params_two,optimal_params_three\n"
   ]
  },
  {
   "cell_type": "code",
   "execution_count": 282,
   "metadata": {},
   "outputs": [],
   "source": [
    "####################  2.A PREDICTIONS FOR DIFFERENT VALUES OF INITIAL PARAMETERS #############################3"
   ]
  },
  {
   "cell_type": "code",
   "execution_count": 283,
   "metadata": {},
   "outputs": [
    {
     "name": "stdout",
     "output_type": "stream",
     "text": [
      "Initial cost one is:  0.17837518173839528 \n",
      "\n",
      "Initial cost two is:  2.13266119057925 \n",
      "\n",
      "Initial cost three is:  0.3194185213965128 \n",
      "\n"
     ]
    }
   ],
   "source": [
    "scaler_object,J_history_one,J_history_two,J_history_three,optimal_params_one,optimal_params_two,optimal_params_three = train(url)"
   ]
  },
  {
   "cell_type": "code",
   "execution_count": 284,
   "metadata": {},
   "outputs": [],
   "source": [
    "def preprocessing_test(df,scaler_object):\n",
    "    df = scaler_object.transform(df)\n",
    "    X = df[:,:5]\n",
    "    y = df[:,5:6]\n",
    "    X = np.hstack((np.ones((len(y),1)),X))\n",
    "    return X,y"
   ]
  },
  {
   "cell_type": "code",
   "execution_count": 285,
   "metadata": {},
   "outputs": [],
   "source": [
    "## R2 Score for Different values of Paramaters"
   ]
  },
  {
   "cell_type": "code",
   "execution_count": 286,
   "metadata": {},
   "outputs": [
    {
     "name": "stdout",
     "output_type": "stream",
     "text": [
      "0.2857354916159277\n"
     ]
    }
   ],
   "source": [
    "y_test,predictions = predict(test_url,scaler_object,optimal_params_one)\n",
    "print(r2_score(y_test,predictions))"
   ]
  },
  {
   "cell_type": "code",
   "execution_count": 287,
   "metadata": {},
   "outputs": [
    {
     "name": "stdout",
     "output_type": "stream",
     "text": [
      "0.24978143773370987\n"
     ]
    }
   ],
   "source": [
    "y_test,predictions = predict(test_url,scaler_object,optimal_params_two)\n",
    "print(r2_score(y_test,predictions))"
   ]
  },
  {
   "cell_type": "code",
   "execution_count": 288,
   "metadata": {},
   "outputs": [
    {
     "name": "stdout",
     "output_type": "stream",
     "text": [
      "0.2760564549298916\n"
     ]
    }
   ],
   "source": [
    "y_test,predictions = predict(test_url,scaler_object,optimal_params_three)\n",
    "print(r2_score(y_test,predictions))"
   ]
  },
  {
   "cell_type": "code",
   "execution_count": 289,
   "metadata": {},
   "outputs": [
    {
     "name": "stdout",
     "output_type": "stream",
     "text": [
      "Optimal parameters are: \n",
      " [[ 0.75854813]\n",
      " [-0.49307882]\n",
      " [-0.11677598]\n",
      " [-0.20620115]\n",
      " [ 0.09597215]\n",
      " [-0.27835967]] \n",
      "\n",
      "Final cost is:  [0.00863839]\n"
     ]
    },
    {
     "data": {
      "image/png": "[encoded data removed]",
      "text/plain": [
       "<Figure size 432x288 with 1 Axes>"
      ]
     },
     "metadata": {
      "needs_background": "light"
     },
     "output_type": "display_data"
    }
   ],
   "source": [
    "from matplotlib import pyplot as plt\n",
    "print(\"Optimal parameters are: \\n\", optimal_params_one, \"\\n\")\n",
    "print(\"Final cost is: \", J_history_one[-1])\n",
    "plt.plot(range(len(J_history_one)), J_history_one, 'r',range(len(J_history_two)), J_history_two, 'b',range(len(J_history_three)), J_history_three, 'g')\n",
    "plt.title(\"Convergence Graph of Cost Function\")\n",
    "plt.xlabel(\"Number of Iterations\")\n",
    "plt.ylabel(\"Cost\")\n",
    "plt.show()"
   ]
  },
  {
   "cell_type": "code",
   "execution_count": 290,
   "metadata": {},
   "outputs": [],
   "source": [
    "def train_different_initial_paramaters(url):\n",
    "    df = pd.read_csv(url)\n",
    "    scaler_object,X,y = preprocessing(df)\n",
    "    n_samples = len(y)\n",
    "    n_features = np.size(X,1)\n",
    "    ## Different Initial Values of params - \n",
    "    params = np.zeros((n_features,1))\n",
    "\n",
    "    ## Trying Gradient Descent for Different Intial Values of Intial Prameters\n",
    "    \n",
    "    n_iters_one = 3700\n",
    "    learning_rate_one = 0.02\n",
    "    \n",
    "    n_iters_two = 1000\n",
    "    learning_rate_two = 0.025\n",
    "    \n",
    "    n_iters_three = 2000\n",
    "    learning_rate_three = 0.003\n",
    "    \n",
    "    initial_cost_one = compute_cost(X, y, params)\n",
    "    print(\"Initial cost one is: \", initial_cost_one, \"\\n\")\n",
    "    (J_history_one, optimal_params_one) = gradient_descent(X, y, params, learning_rate_one, n_iters_one)\n",
    "    \n",
    "    initial_cost_two = compute_cost(X, y, params)\n",
    "    print(\"Initial cost one is: \", initial_cost_one, \"\\n\")\n",
    "    (J_history_two, optimal_params_two) = gradient_descent(X, y, params, learning_rate_two, n_iters_two)\n",
    "    \n",
    "    \n",
    "    initial_cost_three = compute_cost(X, y, params)\n",
    "    print(\"Initial cost one is: \", initial_cost_one, \"\\n\")\n",
    "    (J_history_three, optimal_params_three) = gradient_descent(X, y, params, learning_rate_three, n_iters_three)\n",
    "    \n",
    "    \n",
    "    \n",
    "    return scaler_object,J_history_one,J_history_two,J_history_three,optimal_params_one,optimal_params_two,optimal_params_three\n"
   ]
  },
  {
   "cell_type": "code",
   "execution_count": 291,
   "metadata": {},
   "outputs": [],
   "source": [
    "####################  PREDICTIONS FOR DIFFERENT VALUES OF ITERATIONS AND ALPHA #############################3"
   ]
  },
  {
   "cell_type": "code",
   "execution_count": 292,
   "metadata": {},
   "outputs": [
    {
     "name": "stdout",
     "output_type": "stream",
     "text": [
      "Initial cost one is:  0.17837518173839528 \n",
      "\n",
      "Initial cost one is:  0.17837518173839528 \n",
      "\n",
      "Initial cost one is:  0.17837518173839528 \n",
      "\n"
     ]
    }
   ],
   "source": [
    "scaler_object,J_history_one,J_history_two,J_history_three,optimal_params_one,optimal_params_two,optimal_params_three = train_different_initial_paramaters(url)"
   ]
  },
  {
   "cell_type": "code",
   "execution_count": 293,
   "metadata": {},
   "outputs": [],
   "source": [
    "################## 2.B R2 Score for Different values of Paramaters  ################################"
   ]
  },
  {
   "cell_type": "code",
   "execution_count": 294,
   "metadata": {},
   "outputs": [
    {
     "name": "stdout",
     "output_type": "stream",
     "text": [
      "0.2857354916159277\n"
     ]
    }
   ],
   "source": [
    "y_test,predictions = predict(test_url,scaler_object,optimal_params_one)\n",
    "print(r2_score(y_test,predictions))"
   ]
  },
  {
   "cell_type": "code",
   "execution_count": 295,
   "metadata": {},
   "outputs": [
    {
     "name": "stdout",
     "output_type": "stream",
     "text": [
      "0.18056734755318493\n"
     ]
    }
   ],
   "source": [
    "y_test,predictions = predict(test_url,scaler_object,optimal_params_two)\n",
    "print(r2_score(y_test,predictions))"
   ]
  },
  {
   "cell_type": "code",
   "execution_count": 296,
   "metadata": {},
   "outputs": [
    {
     "name": "stdout",
     "output_type": "stream",
     "text": [
      "-0.22629116388763926\n"
     ]
    }
   ],
   "source": [
    "y_test,predictions = predict(test_url,scaler_object,optimal_params_three)\n",
    "print(r2_score(y_test,predictions))"
   ]
  },
  {
   "cell_type": "code",
   "execution_count": 297,
   "metadata": {},
   "outputs": [
    {
     "name": "stdout",
     "output_type": "stream",
     "text": [
      "Optimal parameters are: \n",
      " [[ 0.75854813]\n",
      " [-0.49307882]\n",
      " [-0.11677598]\n",
      " [-0.20620115]\n",
      " [ 0.09597215]\n",
      " [-0.27835967]] \n",
      "\n",
      "Final cost is:  [0.00863839]\n"
     ]
    },
    {
     "data": {
      "image/png": "[encoded data removed]",
      "text/plain": [
       "<Figure size 432x288 with 1 Axes>"
      ]
     },
     "metadata": {
      "needs_background": "light"
     },
     "output_type": "display_data"
    }
   ],
   "source": [
    "from matplotlib import pyplot as plt\n",
    "print(\"Optimal parameters are: \\n\", optimal_params_one, \"\\n\")\n",
    "print(\"Final cost is: \", J_history_one[-1])\n",
    "plt.plot(range(len(J_history_one)), J_history_one, 'r',range(len(J_history_two)), J_history_two, 'b',range(len(J_history_three)), J_history_three, 'g')\n",
    "plt.title(\"Convergence Graph of Cost Function\")\n",
    "plt.xlabel(\"Number of Iterations\")\n",
    "plt.ylabel(\"Cost\")\n",
    "plt.show()"
   ]
  },
  {
   "cell_type": "code",
   "execution_count": 298,
   "metadata": {},
   "outputs": [],
   "source": [
    "################   (3.A) 0-0.5% of values are missing in a feature ######################"
   ]
  },
  {
   "cell_type": "code",
   "execution_count": 299,
   "metadata": {},
   "outputs": [],
   "source": [
    "### Ans -Since the feature missing are smalle it can be ignored "
   ]
  },
  {
   "cell_type": "code",
   "execution_count": 300,
   "metadata": {},
   "outputs": [],
   "source": [
    "################   (3.B) 8-10% of values are missing in a feature #######################"
   ]
  },
  {
   "cell_type": "code",
   "execution_count": 301,
   "metadata": {},
   "outputs": [],
   "source": [
    "### Ans - Depending on the feature type it can be filled with median, mode, or mean for (categoriacal, numerical)#"
   ]
  },
  {
   "cell_type": "code",
   "execution_count": 302,
   "metadata": {},
   "outputs": [],
   "source": [
    "################   (3.C) 8-10% of values are missing in a feature #######################"
   ]
  },
  {
   "cell_type": "code",
   "execution_count": 303,
   "metadata": {},
   "outputs": [],
   "source": [
    "## Since the missing data is too large, if we apply any method to fill the missing data it may lead to wrong result\n",
    "## Hence we can drop the feature itself from the prediction"
   ]
  },
  {
   "cell_type": "code",
   "execution_count": null,
   "metadata": {},
   "outputs": [],
   "source": []
  }
 ],
 "metadata": {
  "kernelspec": {
   "display_name": "Python 3",
   "language": "python",
   "name": "python3"
  },
  "language_info": {
   "codemirror_mode": {
    "name": "ipython",
    "version": 3
   },
   "file_extension": ".py",
   "mimetype": "text/x-python",
   "name": "python",
   "nbconvert_exporter": "python",
   "pygments_lexer": "ipython3",
   "version": "3.7.4"
  }
 },
 "nbformat": 4,
 "nbformat_minor": 2
}
