{
 "cells": [
  {
   "cell_type": "code",
   "execution_count": 24,
   "metadata": {},
   "outputs": [],
   "source": [
    "#import libraries\n",
    "import numpy as np\n",
    "import pandas as pd\n",
    "from sklearn.preprocessing import MinMaxScaler"
   ]
  },
  {
   "cell_type": "code",
   "execution_count": 25,
   "metadata": {},
   "outputs": [],
   "source": [
    "## Preprocessing relevant information"
   ]
  },
  {
   "cell_type": "code",
   "execution_count": 26,
   "metadata": {},
   "outputs": [],
   "source": [
    "def preprocessing(df):\n",
    "    # Preprocessing formatted date to extarct important features  \n",
    "    df['Hour'] = df['Formatted Date'].apply(pd.to_datetime, utc=True).dt.hour\n",
    "    df['Year'] = df['Formatted Date'].apply(pd.to_datetime, utc=True).dt.year\n",
    "    df['month'] = df['Formatted Date'].apply(pd.to_datetime, utc=True).dt.month\n",
    "    df['date'] = df['Formatted Date'].apply(pd.to_datetime, utc=True).dt.day\n",
    "\n",
    "    df = df.drop(labels=['Formatted Date'],axis=1)\n",
    "    # df = df.drop(labels=['Formatted Date'],axis=1)\n",
    "    df = df.drop(labels=['Daily Summary'],axis=1)\n",
    "    # print(df.shape)\n",
    "    df = df.drop(labels=['Summary'],axis=1)\n",
    "    # print(df.shape)\n",
    "    df = df.drop(labels=['Precip Type'],axis=1) \n",
    "    # print(df.shape)\n",
    "    return df"
   ]
  },
  {
   "cell_type": "code",
   "execution_count": 27,
   "metadata": {},
   "outputs": [],
   "source": [
    "## cost function for linear regression"
   ]
  },
  {
   "cell_type": "code",
   "execution_count": 28,
   "metadata": {},
   "outputs": [],
   "source": [
    "def compute_cost(X, y, params):\n",
    "    n_samples = len(y)\n",
    "    h = X @ params\n",
    "    return (1/(2*n_samples))*np.sum((h-y)**2)"
   ]
  },
  {
   "cell_type": "code",
   "execution_count": 29,
   "metadata": {},
   "outputs": [],
   "source": [
    "##  gradient descent algorithm"
   ]
  },
  {
   "cell_type": "code",
   "execution_count": 30,
   "metadata": {},
   "outputs": [],
   "source": [
    "def gradient_descent(X, y, params, learning_rate, n_iters):\n",
    "    n_samples = len(y)\n",
    "    J_history = np.zeros((n_iters,1))\n",
    "\n",
    "    for i in range(n_iters):\n",
    "        params = params - (learning_rate/n_samples) * X.T @ (X @ params - y) \n",
    "        J_history[i] = compute_cost(X, y, params)\n",
    "\n",
    "    return (J_history, params)"
   ]
  },
  {
   "cell_type": "code",
   "execution_count": 31,
   "metadata": {},
   "outputs": [],
   "source": [
    "optimal_params = None"
   ]
  },
  {
   "cell_type": "code",
   "execution_count": 32,
   "metadata": {},
   "outputs": [],
   "source": [
    "## Training the model\n",
    "\n",
    "def train(url):\n",
    "    df = pd.read_csv(url)\n",
    "    df = preprocessing(df)\n",
    "\n",
    "    y_train = df['Apparent Temperature (C)'].to_numpy().reshape(-1,1)\n",
    "    X_train = df.drop(labels=['Apparent Temperature (C)'],axis=1).to_numpy()\n",
    "\n",
    "    n_samples = len(y_train)\n",
    "    X_train = np.hstack((np.ones((n_samples,1)),X_train))\n",
    "\n",
    "    scaler = MinMaxScaler()\n",
    "    scaler.fit(X_train)\n",
    "    X_train = scaler.transform(X_train)\n",
    "\n",
    "    n_features = np.size(X_train,1)\n",
    "    params = np.zeros((n_features,1))\n",
    "\n",
    "    n_iters = 3300\n",
    "    learning_rate = 0.002\n",
    "    \n",
    "    initial_cost = compute_cost(X_train, y_train, params)\n",
    "\n",
    "    print(\"Initial cost is: \", initial_cost, \"\\n\")\n",
    "    (J_history, optimal_params) = gradient_descent(X_train, y_train, params, learning_rate, n_iters)\n",
    "    return (J_history, optimal_params)"
   ]
  },
  {
   "cell_type": "code",
   "execution_count": 33,
   "metadata": {},
   "outputs": [
    {
     "name": "stdout",
     "output_type": "stream",
     "text": [
      "Initial cost is:  116.34132369788108 \n",
      "\n"
     ]
    }
   ],
   "source": [
    "J_history, optimal_params = train('/home/abhishek/dev/Semester_2/SMAI/Assignments/Assignment_2/Datasets/Question-4/weather.csv')"
   ]
  },
  {
   "cell_type": "code",
   "execution_count": 34,
   "metadata": {},
   "outputs": [
    {
     "name": "stdout",
     "output_type": "stream",
     "text": [
      "Optimal parameters are: \n",
      " [[ 0.        ]\n",
      " [10.3003014 ]\n",
      " [-4.96629711]\n",
      " [-0.19783333]\n",
      " [ 0.93126192]\n",
      " [ 5.68614027]\n",
      " [ 1.87778057]\n",
      " [ 1.67526338]\n",
      " [ 0.74242112]\n",
      " [ 3.03857837]\n",
      " [ 0.60227733]] \n",
      "\n",
      "Final cost is:  [32.20947728]\n"
     ]
    }
   ],
   "source": [
    "print(\"Optimal parameters are: \\n\", optimal_params, \"\\n\")\n",
    "print(\"Final cost is: \", J_history[-1])"
   ]
  },
  {
   "cell_type": "code",
   "execution_count": 35,
   "metadata": {},
   "outputs": [],
   "source": [
    "## Analyzing Regression Coefficients - "
   ]
  },
  {
   "cell_type": "code",
   "execution_count": 36,
   "metadata": {},
   "outputs": [],
   "source": [
    "## Here the equestion of the line is (Y = WtX+b) where b is Wo which is the first parameter above given one"
   ]
  },
  {
   "cell_type": "code",
   "execution_count": 38,
   "metadata": {},
   "outputs": [
    {
     "data": {
      "image/png": "[encoded data removed]",
      "text/plain": [
       "<Figure size 432x288 with 1 Axes>"
      ]
     },
     "metadata": {
      "needs_background": "light"
     },
     "output_type": "display_data"
    }
   ],
   "source": [
    "import matplotlib.pyplot as plt\n",
    "plt.plot(range(len(optimal_params)), optimal_params, 'r')\n",
    "plt.title(\"Regression Coefficients\")\n",
    "plt.xlabel(\"Y-label\")\n",
    "plt.ylabel(\"W values\")\n",
    "plt.show()\n",
    "\n",
    "## Higher value of W1 denotes this effects the most in deciding the Apparent temperature of day"
   ]
  },
  {
   "cell_type": "code",
   "execution_count": 39,
   "metadata": {},
   "outputs": [
    {
     "data": {
      "image/png": "[encoded data removed]",
      "text/plain": [
       "<Figure size 432x288 with 1 Axes>"
      ]
     },
     "metadata": {
      "needs_background": "light"
     },
     "output_type": "display_data"
    }
   ],
   "source": [
    "import matplotlib.pyplot as plt\n",
    "plt.plot(range(len(J_history)), J_history, 'r')\n",
    "plt.title(\"Convergence Graph of Cost Function\")\n",
    "plt.xlabel(\"Number of Iterations\")\n",
    "plt.ylabel(\"Cost\")\n",
    "plt.show()"
   ]
  },
  {
   "cell_type": "code",
   "execution_count": 40,
   "metadata": {},
   "outputs": [],
   "source": [
    "def predict(url):\n",
    "    df = pd.read_csv(url)\n",
    "    y_test = df['Apparent Temperature (C)'].to_numpy()\n",
    "    df = df.drop(labels=['Apparent Temperature (C)'],axis=1)\n",
    "    X_test = preprocessing(df).to_numpy()\n",
    "    X_test = np.hstack((np.ones((len(y_test),1)),X_test))\n",
    "    scaler = MinMaxScaler()\n",
    "    scaler.fit(X_test)\n",
    "    X_test = scaler.transform(X_test)\n",
    "    predictions = []\n",
    "    predictions =  X_test @ optimal_params\n",
    "#     print(predictions.shape)\n",
    "    return y_test,predictions"
   ]
  },
  {
   "cell_type": "code",
   "execution_count": 41,
   "metadata": {},
   "outputs": [],
   "source": [
    "def mean_absolute_percentage_error(y_true,y_pred):\n",
    "    y_true, y_pred = np.array(y_true), np.array(y_pred)\n",
    "    return np.mean(np.abs((y_true - y_pred) / y_true)) * 100"
   ]
  },
  {
   "cell_type": "code",
   "execution_count": 46,
   "metadata": {},
   "outputs": [
    {
     "name": "stdout",
     "output_type": "stream",
     "text": [
      "R2-Score ==  0.7661806200275693\n"
     ]
    }
   ],
   "source": [
    "from sklearn.metrics import r2_score\n",
    "from sklearn.metrics import mean_squared_error\n",
    "from sklearn.metrics import mean_absolute_error\n",
    "\n",
    "y_test,predictions = predict('/home/abhishek/dev/Semester_2/SMAI/Assignments/Assignment_2/Datasets/Question-4/test.csv')\n",
    "print(\"R2-Score == \",r2_score(y_test,predictions))\n",
    "y_test = y_test.reshape(-1,1).T\n",
    "predictions = predictions.reshape(-1,1).T\n"
   ]
  },
  {
   "cell_type": "code",
   "execution_count": 43,
   "metadata": {},
   "outputs": [
    {
     "name": "stdout",
     "output_type": "stream",
     "text": [
      "Mean Squared Error 7.12359132691535\n"
     ]
    }
   ],
   "source": [
    "## Mean Square Error in linear Regression denotes the In statistics, the mean squared error or \n",
    "## mean squared deviation of an estimator measures the average of the squares of the errors—that is, \n",
    "## the average squared difference between the estimated values and the actual value.\n",
    "print(\"Mean Squared Error\",mean_squared_error(y_test,predictions))"
   ]
  },
  {
   "cell_type": "code",
   "execution_count": 44,
   "metadata": {},
   "outputs": [
    {
     "name": "stdout",
     "output_type": "stream",
     "text": [
      "Mean Absolute Error 2.218473856282346\n"
     ]
    }
   ],
   "source": [
    "## In statistics, mean absolute error (MAE) is a measure of difference between two continuous variables\n",
    "print(\"Mean Absolute Error\",mean_absolute_error(y_test,predictions))\n"
   ]
  },
  {
   "cell_type": "code",
   "execution_count": 45,
   "metadata": {},
   "outputs": [
    {
     "name": "stdout",
     "output_type": "stream",
     "text": [
      "Mean Absolute Percentage Error 26.658273910634577\n"
     ]
    }
   ],
   "source": [
    "## The mean absolute percentage error,\n",
    "## also known as mean absolute percentage deviation, is a measure of prediction accuracy of a forecasting method in statistics,\n",
    "## for example in trend estimation, also used as a loss function for regression problems in machine learning.## \n",
    "print(\"Mean Absolute Percentage Error\",mean_absolute_percentage_error(y_test,predictions))"
   ]
  }
 ],
 "metadata": {
  "kernelspec": {
   "display_name": "Python 3",
   "language": "python",
   "name": "python3"
  },
  "language_info": {
   "codemirror_mode": {
    "name": "ipython",
    "version": 3
   },
   "file_extension": ".py",
   "mimetype": "text/x-python",
   "name": "python",
   "nbconvert_exporter": "python",
   "pygments_lexer": "ipython3",
   "version": "3.7.4"
  }
 },
 "nbformat": 4,
 "nbformat_minor": 2
}
