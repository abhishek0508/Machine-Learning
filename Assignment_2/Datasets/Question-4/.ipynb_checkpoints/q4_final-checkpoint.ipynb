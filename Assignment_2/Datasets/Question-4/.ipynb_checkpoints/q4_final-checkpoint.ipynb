{
 "cells": [
  {
   "cell_type": "code",
   "execution_count": 1,
   "metadata": {},
   "outputs": [],
   "source": [
    "#import libraries\n",
    "\n",
    "import numpy as np\n",
    "import pandas as pd\n",
    "import io\n",
    "from matplotlib import pyplot as plt\n",
    "from sklearn.metrics import f1_score\n",
    "from sklearn.model_selection import train_test_split\n",
    "from sklearn.feature_extraction.text import CountVectorizer\n",
    "from sklearn.preprocessing import StandardScaler\n",
    "from sklearn.preprocessing import LabelEncoder\n",
    "from sklearn.metrics import accuracy_score\n",
    "from sklearn.feature_extraction.text import TfidfVectorizer\n",
    "import matplotlib.pyplot as plt\n",
    "from sklearn.preprocessing import MinMaxScaler\n",
    "from sklearn.metrics import r2_score\n",
    "from sklearn.metrics import mean_squared_error\n",
    "from sklearn.metrics import mean_absolute_error\n"
   ]
  },
  {
   "cell_type": "code",
   "execution_count": 2,
   "metadata": {},
   "outputs": [],
   "source": [
    "def preprocessing(self,df):\n",
    "    # Preprocessing formatted date to extarct important features  \n",
    "    df['Hour'] = df['Formatted Date'].apply(pd.to_datetime, utc=True).dt.hour\n",
    "    df['Year'] = df['Formatted Date'].apply(pd.to_datetime, utc=True).dt.year\n",
    "    df['month'] = df['Formatted Date'].apply(pd.to_datetime, utc=True).dt.month\n",
    "    df['date'] = df['Formatted Date'].apply(pd.to_datetime, utc=True).dt.day\n",
    "\n",
    "    df = df.drop(labels=['Formatted Date'],axis=1)\n",
    "    # df = df.drop(labels=['Formatted Date'],axis=1)\n",
    "    df = df.drop(labels=['Daily Summary'],axis=1)\n",
    "    # print(df.shape)\n",
    "    df = df.drop(labels=['Summary'],axis=1)\n",
    "    # print(df.shape)\n",
    "    df = df.drop(labels=['Precip Type'],axis=1) \n",
    "    # print(df.shape)\n",
    "    return df"
   ]
  },
  {
   "cell_type": "code",
   "execution_count": null,
   "metadata": {},
   "outputs": [],
   "source": []
  }
 ],
 "metadata": {
  "kernelspec": {
   "display_name": "Python 3",
   "language": "python",
   "name": "python3"
  },
  "language_info": {
   "codemirror_mode": {
    "name": "ipython",
    "version": 3
   },
   "file_extension": ".py",
   "mimetype": "text/x-python",
   "name": "python",
   "nbconvert_exporter": "python",
   "pygments_lexer": "ipython3",
   "version": "3.7.4"
  }
 },
 "nbformat": 4,
 "nbformat_minor": 2
}
