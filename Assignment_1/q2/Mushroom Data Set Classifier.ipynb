{
 "cells": [
  {
   "cell_type": "code",
   "execution_count": 3,
   "metadata": {},
   "outputs": [],
   "source": [
    "import pandas as pd\n",
    "import numpy as np"
   ]
  },
  {
   "cell_type": "code",
   "execution_count": 55,
   "metadata": {},
   "outputs": [],
   "source": [
    "df = pd.read_csv('train.csv')"
   ]
  },
  {
   "cell_type": "code",
   "execution_count": 37,
   "metadata": {},
   "outputs": [],
   "source": [
    "train = df.to_numpy()"
   ]
  },
  {
   "cell_type": "code",
   "execution_count": 46,
   "metadata": {},
   "outputs": [],
   "source": [
    "all_data = [{'b','c','x','f','k','s'},\n",
    "{'f','g','y','s'},\n",
    "{'n','b','c','g','r','p','u','e','w','y','t','f'},\n",
    "{'t','f'},\n",
    "{'a','l','c','y','f','m','n','p','s'},\n",
    "{'a','d','f','n'},\n",
    "{'c','w','d'},\n",
    "{'b','n'},\n",
    "{'k','n','b','h','g','r','o','p','u','e','w','y'},\n",
    "{'e','t'},\n",
    "{'b','c','u','e','z','r','?'},\n",
    "{'f','y','k','s'},\n",
    "{'f','y','k','s'},\n",
    "{'n','b','c','g','o','p','e','w','y'},\n",
    "{'n','b','c','g','o','p','e','w','y'},\n",
    "{'p','u'},\n",
    "{'n','o','w','y'},\n",
    "{'n','o','t'},\n",
    "{'c','e','f','l','n','p','s','z'},\n",
    "{'k','n','b','h','r','o','u','w','y'},  \n",
    "{'a','c','n','s','v','y'},\n",
    "{'g','l','m','p','u','w','d'}]"
   ]
  },
  {
   "cell_type": "code",
   "execution_count": 54,
   "metadata": {},
   "outputs": [
    {
     "data": {
      "text/plain": [
       "{'b', 'c', 'e', 'f', 'g', 'n', 'p', 'r', 't', 'u', 'w', 'y'}"
      ]
     },
     "execution_count": 54,
     "metadata": {},
     "output_type": "execute_result"
    }
   ],
   "source": [
    "all_data[2]"
   ]
  },
  {
   "cell_type": "code",
   "execution_count": null,
   "metadata": {},
   "outputs": [],
   "source": []
  }
 ],
 "metadata": {
  "kernelspec": {
   "display_name": "Python 3",
   "language": "python",
   "name": "python3"
  },
  "language_info": {
   "codemirror_mode": {
    "name": "ipython",
    "version": 3
   },
   "file_extension": ".py",
   "mimetype": "text/x-python",
   "name": "python",
   "nbconvert_exporter": "python",
   "pygments_lexer": "ipython3",
   "version": "3.7.4"
  }
 },
 "nbformat": 4,
 "nbformat_minor": 2
}
