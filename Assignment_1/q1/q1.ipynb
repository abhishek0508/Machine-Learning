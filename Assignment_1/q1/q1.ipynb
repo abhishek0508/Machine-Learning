{
 "cells": [
  {
   "cell_type": "markdown",
   "metadata": {
    "colab_type": "text",
    "id": "k6kt7GVwFeZN"
   },
   "source": [
    "**Importing Libraries**"
   ]
  },
  {
   "cell_type": "code",
   "execution_count": 0,
   "metadata": {
    "colab": {},
    "colab_type": "code",
    "id": "e2FN-30pJoBU"
   },
   "outputs": [],
   "source": [
    "from google.colab import files\n",
    "import numpy as np\n",
    "from google.colab import files\n",
    "import pandas as pd\n",
    "import io\n",
    "from sklearn.metrics import f1_score"
   ]
  },
  {
   "cell_type": "code",
   "execution_count": 0,
   "metadata": {
    "colab": {},
    "colab_type": "code",
    "id": "_fW__fSzPudj"
   },
   "outputs": [],
   "source": [
    "train_url='https://raw.githubusercontent.com/abhishek0508/Machine-Learning/master/Assignment_1/OneDrive_1_21-01-2020/q1/train.csv'\n",
    "test_url='https://raw.githubusercontent.com/abhishek0508/Machine-Learning/master/Assignment_1/OneDrive_1_21-01-2020/q1/test.csv'\n",
    "test_label_url='https://raw.githubusercontent.com/abhishek0508/Machine-Learning/master/Assignment_1/OneDrive_1_21-01-2020/q1/test_labels.csv'"
   ]
  },
  {
   "cell_type": "code",
   "execution_count": 0,
   "metadata": {
    "colab": {},
    "colab_type": "code",
    "id": "rBV5eLAKPxyU"
   },
   "outputs": [],
   "source": [
    "df = pd.read_csv(train_url)"
   ]
  },
  {
   "cell_type": "code",
   "execution_count": 0,
   "metadata": {
    "colab": {},
    "colab_type": "code",
    "id": "0zpG2f7CZ2yl"
   },
   "outputs": [],
   "source": [
    "test = pd.read_csv(test_url)"
   ]
  },
  {
   "cell_type": "markdown",
   "metadata": {
    "colab_type": "text",
    "id": "WrRZXXaBEof7"
   },
   "source": [
    "##Splitting into validation and training dataset (80% Train, 20% validation)"
   ]
  },
  {
   "cell_type": "code",
   "execution_count": 0,
   "metadata": {
    "colab": {},
    "colab_type": "code",
    "id": "6oFc-F6VVbU6"
   },
   "outputs": [],
   "source": [
    "msk = np.random.rand(len(df)) < 0.8\n",
    "validation = df[~msk]\n",
    "train = df[msk]\n",
    "x = train.loc[:, df.columns!='1']\n",
    "## there"
   ]
  },
  {
   "cell_type": "markdown",
   "metadata": {
    "colab_type": "text",
    "id": "hNFRhwMvFC8L"
   },
   "source": [
    "## Featurizing vectors as images"
   ]
  },
  {
   "cell_type": "code",
   "execution_count": 9,
   "metadata": {
    "colab": {
     "base_uri": "https://localhost:8080/",
     "height": 282
    },
    "colab_type": "code",
    "id": "54bXdBkqbNvH",
    "outputId": "17aee7ea-bf18-4a0a-eead-ed91bb6efe45"
   },
   "outputs": [
    {
     "data": {
      "text/plain": [
       "<matplotlib.image.AxesImage at 0x7f97dfb13748>"
      ]
     },
     "execution_count": 9,
     "metadata": {
      "tags": []
     },
     "output_type": "execute_result"
    },
    {
     "data": {
      "image/png": "[encoded data removed]",
      "text/plain": [
       "<Figure size 432x288 with 1 Axes>"
      ]
     },
     "metadata": {
      "tags": []
     },
     "output_type": "display_data"
    }
   ],
   "source": [
    "some_digit = x.loc[4].to_numpy()\n",
    "some_digit_image = some_digit.reshape(28,28)\n",
    "import matplotlib\n",
    "import matplotlib.pyplot as plt\n",
    "plt.imshow(some_digit_image,cmap = matplotlib.cm.binary, interpolation='nearest')"
   ]
  },
  {
   "cell_type": "markdown",
   "metadata": {
    "colab_type": "text",
    "id": "_827r08qFQYC"
   },
   "source": [
    "**Omitting labels from validation dataset**"
   ]
  },
  {
   "cell_type": "code",
   "execution_count": 0,
   "metadata": {
    "colab": {},
    "colab_type": "code",
    "id": "612RrCnM-J2x"
   },
   "outputs": [],
   "source": [
    "validation_without_label = validation[validation.columns[1:]]\n",
    "# validation_without_label"
   ]
  },
  {
   "cell_type": "code",
   "execution_count": 0,
   "metadata": {
    "colab": {},
    "colab_type": "code",
    "id": "NciwpZBE-kWh"
   },
   "outputs": [],
   "source": [
    "validation_with_label = validation[validation.columns[:1]]"
   ]
  },
  {
   "cell_type": "code",
   "execution_count": 0,
   "metadata": {
    "colab": {},
    "colab_type": "code",
    "id": "ylEtdCX9-rIT"
   },
   "outputs": [],
   "source": [
    "train_without_label = train[train.columns[1:]]"
   ]
  },
  {
   "cell_type": "code",
   "execution_count": 0,
   "metadata": {
    "colab": {},
    "colab_type": "code",
    "id": "2FyiTg_QAF04"
   },
   "outputs": [],
   "source": [
    "train_with_label = train[train.columns[:1]]\n",
    "train_label = train_with_label.to_numpy()\n",
    "train_label\n",
    "from collections import Counter\n",
    "from sklearn.metrics import accuracy_score"
   ]
  },
  {
   "cell_type": "markdown",
   "metadata": {
    "colab_type": "text",
    "id": "VLeORuAQDfRF"
   },
   "source": [
    "## KNN for Different Values of k"
   ]
  },
  {
   "cell_type": "code",
   "execution_count": 0,
   "metadata": {
    "colab": {},
    "colab_type": "code",
    "id": "tQObKmu5AVNe"
   },
   "outputs": [],
   "source": [
    "def fun(dist,k):\n",
    "  knn = []\n",
    "  for i in range(0,k):\n",
    "    knn.append(dist[i])\n",
    "  \n",
    "  # print(knn)\n",
    "  knn_label = []\n",
    "  for i in range(0,len(knn)):\n",
    "    knn_label.append(knn[i][1])\n",
    "  \n",
    "  knn_value = Counter(knn_label)\n",
    "  res = knn_value.most_common(1)[0][0]\n",
    "\n",
    "  # print(res)\n",
    "  return res\n",
    "\n",
    "def compare(y_predict,y_true):\n",
    "    print(accuracy_score(y_true,y_predict))\n",
    "\n",
    "dist = []\n",
    "model_label = []\n",
    "\n",
    "for index_validation , row_validation in validation_without_label.iterrows():\n",
    "  i=0\n",
    "  for index_train, row_train in train_without_label.iterrows():\n",
    "    row_diff = np.power((row_validation.values-row_train.values),2)\n",
    "    row_euclid_diff = int(np.sqrt(np.sum(row_diff)))\n",
    "    x = int(train_label[i])\n",
    "    dist.append((row_euclid_diff,x))\n",
    "    i=i+1\n",
    "  # print(dist)\n",
    "  dist2 = sorted(dist, key=lambda x: x[0])\n",
    "  model_label.append(fun(dist2,4))\n",
    "  dist.clear()\n",
    "# print(model_label)\n",
    "validation_label = []\n",
    "for i in range(0,len(validation_with_label.values)):\n",
    "  validation_label.append(int(validation_with_label.values[i]))\n",
    "# print(validation_label)\n",
    "print(\"Accuracy Score\")\n",
    "# print('k==',k)\n",
    "\n"
   ]
  },
  {
   "cell_type": "code",
   "execution_count": 17,
   "metadata": {
    "colab": {
     "base_uri": "https://localhost:8080/",
     "height": 34
    },
    "colab_type": "code",
    "id": "7YCN-vv1wLqd",
    "outputId": "250a7d12-8e87-482a-b014-409dd1aad3ea"
   },
   "outputs": [
    {
     "name": "stdout",
     "output_type": "stream",
     "text": [
      "0.9589276930644368\n"
     ]
    }
   ],
   "source": [
    "compare(model_label,validation_label)\n",
    "model_label.clear();\n",
    "validation_label.clear()"
   ]
  },
  {
   "cell_type": "code",
   "execution_count": 0,
   "metadata": {
    "colab": {},
    "colab_type": "code",
    "id": "M7TMT2CnWJIO"
   },
   "outputs": [],
   "source": [
    "from sklearn.metrics import f1_score"
   ]
  },
  {
   "cell_type": "markdown",
   "metadata": {
    "colab_type": "text",
    "id": "BI4l5Ihu9da5"
   },
   "source": [
    "## Applying KNN using SKLearn"
   ]
  },
  {
   "cell_type": "code",
   "execution_count": 18,
   "metadata": {
    "colab": {
     "base_uri": "https://localhost:8080/",
     "height": 34
    },
    "colab_type": "code",
    "id": "SZC-3kDg9Igr",
    "outputId": "1f8294af-e348-45ec-e0d9-be69ae8b4a21"
   },
   "outputs": [
    {
     "name": "stdout",
     "output_type": "stream",
     "text": [
      "0.960960960960961\n"
     ]
    }
   ],
   "source": [
    "from sklearn.neighbors import KNeighborsClassifier\n",
    "from sklearn.metrics import accuracy_score\n",
    "df = pd.read_csv(train_url)\n",
    "knn = KNeighborsClassifier()\n",
    "\n",
    "train_label = df[df.columns[0]].to_numpy()\n",
    "train_data = df[df.columns[1:]].to_numpy()\n",
    "\n",
    "knn.fit(train_data,train_label)\n",
    "\n",
    "test=pd.read_csv(test_url)\n",
    "test = test.to_numpy()\n",
    "knn.predict(test)\n",
    "\n",
    "test_label = pd.read_csv(test_label_url)\n",
    "\n",
    "print(knn.score(test,test_label))"
   ]
  },
  {
   "cell_type": "code",
   "execution_count": 0,
   "metadata": {
    "colab": {},
    "colab_type": "code",
    "id": "k2de6vCXtLPD"
   },
   "outputs": [],
   "source": []
  }
 ],
 "metadata": {
  "accelerator": "GPU",
  "colab": {
   "collapsed_sections": [],
   "name": "KNN Digit Classifier",
   "provenance": []
  },
  "kernelspec": {
   "display_name": "Python 3",
   "language": "python",
   "name": "python3"
  },
  "language_info": {
   "codemirror_mode": {
    "name": "ipython",
    "version": 3
   },
   "file_extension": ".py",
   "mimetype": "text/x-python",
   "name": "python",
   "nbconvert_exporter": "python",
   "pygments_lexer": "ipython3",
   "version": "3.7.4"
  }
 },
 "nbformat": 4,
 "nbformat_minor": 1
}
